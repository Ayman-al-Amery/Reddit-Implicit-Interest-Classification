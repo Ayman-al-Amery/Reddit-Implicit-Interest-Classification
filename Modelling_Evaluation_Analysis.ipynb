{
 "cells": [
  {
   "cell_type": "code",
   "execution_count": 1,
   "id": "0c1e9c14",
   "metadata": {},
   "outputs": [],
   "source": [
    "# Importing relevant libraries\n",
    "\n",
    "import requests\n",
    "import requests.auth\n",
    "import time\n",
    "import pandas as pd\n",
    "import numpy as np\n",
    "import matplotlib.pyplot as plt\n",
    "import seaborn as sns"
   ]
  },
  {
   "cell_type": "code",
   "execution_count": 2,
   "id": "21002efb",
   "metadata": {},
   "outputs": [],
   "source": [
    "from sklearn.preprocessing import StandardScaler\n",
    "from sklearn.model_selection import train_test_split, cross_val_score, KFold\n",
    "from sklearn.tree import DecisionTreeClassifier\n",
    "from sklearn.linear_model import LogisticRegression\n",
    "from sklearn.ensemble import BaggingClassifier, RandomForestClassifier\n",
    "from sklearn.metrics import classification_report, plot_confusion_matrix, plot_roc_curve"
   ]
  },
  {
   "cell_type": "code",
   "execution_count": null,
   "id": "ec97cc48",
   "metadata": {},
   "outputs": [],
   "source": []
  },
  {
   "cell_type": "markdown",
   "id": "ea61bb9d",
   "metadata": {},
   "source": [
    "# Data Preparation"
   ]
  },
  {
   "cell_type": "code",
   "execution_count": 3,
   "id": "8c7fbcd8",
   "metadata": {},
   "outputs": [],
   "source": [
    "# Reading the dataset into a pandas CSV\n",
    "\n",
    "df = pd.read_csv('df_2.csv')"
   ]
  },
  {
   "cell_type": "code",
   "execution_count": 4,
   "id": "d3be538a",
   "metadata": {},
   "outputs": [],
   "source": [
    "df.set_index('Unnamed: 0', inplace=True)\n",
    "df.index.name = None"
   ]
  },
  {
   "cell_type": "code",
   "execution_count": 5,
   "id": "bdbf4a8f",
   "metadata": {},
   "outputs": [
    {
     "data": {
      "text/html": [
       "<div>\n",
       "<style scoped>\n",
       "    .dataframe tbody tr th:only-of-type {\n",
       "        vertical-align: middle;\n",
       "    }\n",
       "\n",
       "    .dataframe tbody tr th {\n",
       "        vertical-align: top;\n",
       "    }\n",
       "\n",
       "    .dataframe thead th {\n",
       "        text-align: right;\n",
       "    }\n",
       "</style>\n",
       "<table border=\"1\" class=\"dataframe\">\n",
       "  <thead>\n",
       "    <tr style=\"text-align: right;\">\n",
       "      <th></th>\n",
       "      <th>business</th>\n",
       "      <th>LooneyTunesLogic</th>\n",
       "      <th>grandorder</th>\n",
       "      <th>turntables</th>\n",
       "      <th>Maine</th>\n",
       "      <th>Floki</th>\n",
       "      <th>belowdeck</th>\n",
       "      <th>bassfishing</th>\n",
       "      <th>dogsusingpillows</th>\n",
       "      <th>biggreenegg</th>\n",
       "      <th>...</th>\n",
       "      <th>WorldofTanksConsole</th>\n",
       "      <th>pancakes</th>\n",
       "      <th>lupinthe3rd</th>\n",
       "      <th>CookingCircleJerk</th>\n",
       "      <th>shittykickstarters</th>\n",
       "      <th>90sHipHop</th>\n",
       "      <th>codeine</th>\n",
       "      <th>evetech</th>\n",
       "      <th>AdulteryHate</th>\n",
       "      <th>Moustache</th>\n",
       "    </tr>\n",
       "  </thead>\n",
       "  <tbody>\n",
       "    <tr>\n",
       "      <th>OliveInvestor</th>\n",
       "      <td>0.0</td>\n",
       "      <td>0.0</td>\n",
       "      <td>0.0</td>\n",
       "      <td>0.0</td>\n",
       "      <td>0.0</td>\n",
       "      <td>0.0</td>\n",
       "      <td>0.0</td>\n",
       "      <td>0.0</td>\n",
       "      <td>0.0</td>\n",
       "      <td>0.0</td>\n",
       "      <td>...</td>\n",
       "      <td>0.0</td>\n",
       "      <td>0.0</td>\n",
       "      <td>0.0</td>\n",
       "      <td>0.0</td>\n",
       "      <td>0.0</td>\n",
       "      <td>0.0</td>\n",
       "      <td>0.0</td>\n",
       "      <td>0.0</td>\n",
       "      <td>0.0</td>\n",
       "      <td>0.0</td>\n",
       "    </tr>\n",
       "    <tr>\n",
       "      <th>regarding_your_cat</th>\n",
       "      <td>0.0</td>\n",
       "      <td>0.0</td>\n",
       "      <td>0.0</td>\n",
       "      <td>0.0</td>\n",
       "      <td>0.0</td>\n",
       "      <td>0.0</td>\n",
       "      <td>0.0</td>\n",
       "      <td>0.0</td>\n",
       "      <td>0.0</td>\n",
       "      <td>0.0</td>\n",
       "      <td>...</td>\n",
       "      <td>0.0</td>\n",
       "      <td>0.0</td>\n",
       "      <td>0.0</td>\n",
       "      <td>0.0</td>\n",
       "      <td>0.0</td>\n",
       "      <td>0.0</td>\n",
       "      <td>0.0</td>\n",
       "      <td>0.0</td>\n",
       "      <td>0.0</td>\n",
       "      <td>0.0</td>\n",
       "    </tr>\n",
       "    <tr>\n",
       "      <th>mr_kazemiro</th>\n",
       "      <td>0.0</td>\n",
       "      <td>0.0</td>\n",
       "      <td>0.0</td>\n",
       "      <td>0.0</td>\n",
       "      <td>0.0</td>\n",
       "      <td>0.0</td>\n",
       "      <td>0.0</td>\n",
       "      <td>0.0</td>\n",
       "      <td>0.0</td>\n",
       "      <td>0.0</td>\n",
       "      <td>...</td>\n",
       "      <td>0.0</td>\n",
       "      <td>0.0</td>\n",
       "      <td>0.0</td>\n",
       "      <td>0.0</td>\n",
       "      <td>0.0</td>\n",
       "      <td>0.0</td>\n",
       "      <td>0.0</td>\n",
       "      <td>0.0</td>\n",
       "      <td>0.0</td>\n",
       "      <td>0.0</td>\n",
       "    </tr>\n",
       "    <tr>\n",
       "      <th>damn_montana</th>\n",
       "      <td>0.0</td>\n",
       "      <td>0.0</td>\n",
       "      <td>0.0</td>\n",
       "      <td>0.0</td>\n",
       "      <td>0.0</td>\n",
       "      <td>0.0</td>\n",
       "      <td>0.0</td>\n",
       "      <td>0.0</td>\n",
       "      <td>0.0</td>\n",
       "      <td>0.0</td>\n",
       "      <td>...</td>\n",
       "      <td>0.0</td>\n",
       "      <td>0.0</td>\n",
       "      <td>0.0</td>\n",
       "      <td>0.0</td>\n",
       "      <td>0.0</td>\n",
       "      <td>0.0</td>\n",
       "      <td>0.0</td>\n",
       "      <td>0.0</td>\n",
       "      <td>0.0</td>\n",
       "      <td>0.0</td>\n",
       "    </tr>\n",
       "    <tr>\n",
       "      <th>Philinizavr</th>\n",
       "      <td>0.0</td>\n",
       "      <td>0.0</td>\n",
       "      <td>0.0</td>\n",
       "      <td>0.0</td>\n",
       "      <td>0.0</td>\n",
       "      <td>0.0</td>\n",
       "      <td>0.0</td>\n",
       "      <td>0.0</td>\n",
       "      <td>0.0</td>\n",
       "      <td>0.0</td>\n",
       "      <td>...</td>\n",
       "      <td>0.0</td>\n",
       "      <td>0.0</td>\n",
       "      <td>0.0</td>\n",
       "      <td>0.0</td>\n",
       "      <td>0.0</td>\n",
       "      <td>0.0</td>\n",
       "      <td>0.0</td>\n",
       "      <td>0.0</td>\n",
       "      <td>0.0</td>\n",
       "      <td>0.0</td>\n",
       "    </tr>\n",
       "  </tbody>\n",
       "</table>\n",
       "<p>5 rows × 11076 columns</p>\n",
       "</div>"
      ],
      "text/plain": [
       "                    business  LooneyTunesLogic  grandorder  turntables  Maine  \\\n",
       "OliveInvestor            0.0               0.0         0.0         0.0    0.0   \n",
       "regarding_your_cat       0.0               0.0         0.0         0.0    0.0   \n",
       "mr_kazemiro              0.0               0.0         0.0         0.0    0.0   \n",
       "damn_montana             0.0               0.0         0.0         0.0    0.0   \n",
       "Philinizavr              0.0               0.0         0.0         0.0    0.0   \n",
       "\n",
       "                    Floki  belowdeck  bassfishing  dogsusingpillows  \\\n",
       "OliveInvestor         0.0        0.0          0.0               0.0   \n",
       "regarding_your_cat    0.0        0.0          0.0               0.0   \n",
       "mr_kazemiro           0.0        0.0          0.0               0.0   \n",
       "damn_montana          0.0        0.0          0.0               0.0   \n",
       "Philinizavr           0.0        0.0          0.0               0.0   \n",
       "\n",
       "                    biggreenegg  ...  WorldofTanksConsole  pancakes  \\\n",
       "OliveInvestor               0.0  ...                  0.0       0.0   \n",
       "regarding_your_cat          0.0  ...                  0.0       0.0   \n",
       "mr_kazemiro                 0.0  ...                  0.0       0.0   \n",
       "damn_montana                0.0  ...                  0.0       0.0   \n",
       "Philinizavr                 0.0  ...                  0.0       0.0   \n",
       "\n",
       "                    lupinthe3rd  CookingCircleJerk  shittykickstarters  \\\n",
       "OliveInvestor               0.0                0.0                 0.0   \n",
       "regarding_your_cat          0.0                0.0                 0.0   \n",
       "mr_kazemiro                 0.0                0.0                 0.0   \n",
       "damn_montana                0.0                0.0                 0.0   \n",
       "Philinizavr                 0.0                0.0                 0.0   \n",
       "\n",
       "                    90sHipHop  codeine  evetech  AdulteryHate  Moustache  \n",
       "OliveInvestor             0.0      0.0      0.0           0.0        0.0  \n",
       "regarding_your_cat        0.0      0.0      0.0           0.0        0.0  \n",
       "mr_kazemiro               0.0      0.0      0.0           0.0        0.0  \n",
       "damn_montana              0.0      0.0      0.0           0.0        0.0  \n",
       "Philinizavr               0.0      0.0      0.0           0.0        0.0  \n",
       "\n",
       "[5 rows x 11076 columns]"
      ]
     },
     "execution_count": 5,
     "metadata": {},
     "output_type": "execute_result"
    }
   ],
   "source": [
    "df.head()"
   ]
  },
  {
   "cell_type": "code",
   "execution_count": 6,
   "id": "3c3f7f1c",
   "metadata": {},
   "outputs": [
    {
     "data": {
      "text/plain": [
       "(6192, 11076)"
      ]
     },
     "execution_count": 6,
     "metadata": {},
     "output_type": "execute_result"
    }
   ],
   "source": [
    "df.shape"
   ]
  },
  {
   "cell_type": "code",
   "execution_count": 7,
   "id": "a4586534",
   "metadata": {},
   "outputs": [],
   "source": [
    "# Defining the predictors and target\n",
    "\n",
    "X = df.drop(columns=['Target']).copy()\n",
    "y = df.Target.copy()"
   ]
  },
  {
   "cell_type": "code",
   "execution_count": 8,
   "id": "f3106ee9",
   "metadata": {},
   "outputs": [],
   "source": [
    "# Creating a train-test split\n",
    "\n",
    "X_train, X_test, y_train, y_test = train_test_split(X, y, test_size=0.2, stratify=y, random_state=42)\n",
    "\n",
    "\n",
    "# Using StandardScaler(with_mean=False) to keep 0 values as 0\n",
    "\n",
    "scaler = StandardScaler(with_mean=False)\n",
    "\n",
    "X_train = pd.DataFrame(scaler.fit_transform(X_train), columns=X_train.columns)\n",
    "X_test = pd.DataFrame(scaler.transform(X_test), columns=X_test.columns)"
   ]
  },
  {
   "cell_type": "code",
   "execution_count": null,
   "id": "a1301b4c",
   "metadata": {},
   "outputs": [],
   "source": []
  },
  {
   "cell_type": "code",
   "execution_count": null,
   "id": "a1e012b5",
   "metadata": {},
   "outputs": [],
   "source": []
  },
  {
   "cell_type": "code",
   "execution_count": 10,
   "id": "1ae86305",
   "metadata": {},
   "outputs": [
    {
     "data": {
      "text/plain": [
       "1.0    0.517926\n",
       "0.0    0.482074\n",
       "Name: Target, dtype: float64"
      ]
     },
     "execution_count": 10,
     "metadata": {},
     "output_type": "execute_result"
    }
   ],
   "source": [
    "# Examining target class balance and identifying baseline accuracy (approximately 51.8%)\n",
    "\n",
    "df.Target.value_counts(normalize=True)"
   ]
  },
  {
   "cell_type": "code",
   "execution_count": null,
   "id": "b17dc1f3",
   "metadata": {},
   "outputs": [],
   "source": []
  },
  {
   "cell_type": "markdown",
   "id": "c88fc151",
   "metadata": {},
   "source": [
    "# Feature Selection"
   ]
  },
  {
   "cell_type": "code",
   "execution_count": null,
   "id": "ce63475b",
   "metadata": {},
   "outputs": [],
   "source": [
    "# Defining feature subsets"
   ]
  },
  {
   "cell_type": "code",
   "execution_count": 12,
   "id": "08857df1",
   "metadata": {},
   "outputs": [],
   "source": [
    "select_feat = pd.read_csv('select_feat.csv')\n",
    "select_feat = list(select_feat['feature'].values)"
   ]
  },
  {
   "cell_type": "code",
   "execution_count": 18,
   "id": "8ba9be35",
   "metadata": {},
   "outputs": [],
   "source": [
    "super_select_feat = pd.read_csv('super_select_feat.csv')\n",
    "super_select_feat = list(super_select_feat['feature'].values)"
   ]
  },
  {
   "cell_type": "code",
   "execution_count": null,
   "id": "278b3c2a",
   "metadata": {},
   "outputs": [],
   "source": []
  },
  {
   "cell_type": "markdown",
   "id": "4c8a568c",
   "metadata": {},
   "source": [
    "# Modelling"
   ]
  },
  {
   "cell_type": "markdown",
   "id": "07193d4d",
   "metadata": {},
   "source": [
    "### Logistic Regression Variants"
   ]
  },
  {
   "cell_type": "markdown",
   "id": "eac46293",
   "metadata": {},
   "source": [
    "Logistic Regression"
   ]
  },
  {
   "cell_type": "code",
   "execution_count": 25,
   "id": "7c227d22",
   "metadata": {},
   "outputs": [
    {
     "name": "stdout",
     "output_type": "stream",
     "text": [
      "Training Score: 0.9985867151221481\n",
      "Cross Val Score: 0.7343030710740095\n",
      "Test Score: 0.7029862792574657\n"
     ]
    }
   ],
   "source": [
    "# Logistic Regression with all features\n",
    "\n",
    "model = LogisticRegression(max_iter=1000)\n",
    "\n",
    "kf = KFold(n_splits=5, random_state=42, shuffle=True)\n",
    "\n",
    "model.fit(X_train, y_train)\n",
    "\n",
    "print('Training Score:', model.score(X_train, y_train))\n",
    "print('Cross Val Score:', cross_val_score(model, X_train, y_train, cv=kf).mean())\n",
    "print('Test Score:', model.score(X_test, y_test))"
   ]
  },
  {
   "cell_type": "code",
   "execution_count": 26,
   "id": "f2aba6f8",
   "metadata": {},
   "outputs": [
    {
     "data": {
      "text/plain": [
       "array([0.75075681, 0.72956609, 0.71947528, 0.74343434, 0.72828283])"
      ]
     },
     "execution_count": 26,
     "metadata": {},
     "output_type": "execute_result"
    }
   ],
   "source": [
    "cross_val_score(model, X_train, y_train, cv=kf)"
   ]
  },
  {
   "cell_type": "code",
   "execution_count": 27,
   "id": "0a642d2f",
   "metadata": {},
   "outputs": [
    {
     "name": "stdout",
     "output_type": "stream",
     "text": [
      "Training Score: 0.8881485968100141\n",
      "Cross Val Score: 0.8376689192632686\n",
      "Test Score: 0.8466505246166263\n"
     ]
    }
   ],
   "source": [
    "# Logistic Regression with initial subset of features\n",
    "\n",
    "model = LogisticRegression(max_iter=1000)\n",
    "\n",
    "kf = KFold(n_splits=5, random_state=42, shuffle=True)\n",
    "\n",
    "model.fit(X_train[select_feat], y_train)\n",
    "\n",
    "print('Training Score:', model.score(X_train[select_feat], y_train))\n",
    "print('Cross Val Score:', cross_val_score(model, X_train[select_feat], y_train, cv=kf).mean())\n",
    "print('Test Score:', model.score(X_test[select_feat], y_test))"
   ]
  },
  {
   "cell_type": "code",
   "execution_count": 28,
   "id": "1874f04e",
   "metadata": {},
   "outputs": [
    {
     "data": {
      "text/plain": [
       "array([0.85368315, 0.84056509, 0.84460141, 0.82525253, 0.82424242])"
      ]
     },
     "execution_count": 28,
     "metadata": {},
     "output_type": "execute_result"
    }
   ],
   "source": [
    "cross_val_score(model, X_train[select_feat], y_train, cv=kf)"
   ]
  },
  {
   "cell_type": "code",
   "execution_count": 29,
   "id": "818e58e1",
   "metadata": {},
   "outputs": [
    {
     "name": "stdout",
     "output_type": "stream",
     "text": [
      "Training Score: 0.8273773470623864\n",
      "Cross Val Score: 0.8271673342914514\n",
      "Test Score: 0.8038740920096852\n"
     ]
    }
   ],
   "source": [
    "# Logistic Regression with second narrower subset of features\n",
    "\n",
    "model = LogisticRegression(max_iter=1000)\n",
    "\n",
    "kf = KFold(n_splits=5, random_state=42, shuffle=True)\n",
    "\n",
    "model.fit(X_train[super_select_feat], y_train)\n",
    "\n",
    "print('Training Score:', model.score(X_train[super_select_feat], y_train))\n",
    "print('Cross Val Score:', cross_val_score(model, X_train[super_select_feat], y_train, cv=kf).mean())\n",
    "print('Test Score:', model.score(X_test[super_select_feat], y_test))"
   ]
  },
  {
   "cell_type": "code",
   "execution_count": 30,
   "id": "cc9e10da",
   "metadata": {},
   "outputs": [
    {
     "data": {
      "text/plain": [
       "array([0.8506559 , 0.83854692, 0.83249243, 0.8010101 , 0.81313131])"
      ]
     },
     "execution_count": 30,
     "metadata": {},
     "output_type": "execute_result"
    }
   ],
   "source": [
    "cross_val_score(model, X_train[super_select_feat], y_train, cv=kf)"
   ]
  },
  {
   "cell_type": "markdown",
   "id": "40410822",
   "metadata": {},
   "source": [
    "Bagging Classifier with Logistic Regression"
   ]
  },
  {
   "cell_type": "code",
   "execution_count": 31,
   "id": "0e67b1b3",
   "metadata": {},
   "outputs": [
    {
     "name": "stdout",
     "output_type": "stream",
     "text": [
      "Training Score: 0.9830405814657783\n",
      "Cross Val Score: 0.7458100683933176\n",
      "Test Score: 0.7199354317998385\n"
     ]
    }
   ],
   "source": [
    "# Using all features\n",
    "\n",
    "model = BaggingClassifier(base_estimator=LogisticRegression(max_iter=1000))\n",
    "\n",
    "kf = KFold(n_splits=5, random_state=42, shuffle=True)\n",
    "\n",
    "model.fit(X_train, y_train)\n",
    "\n",
    "print('Training Score:', model.score(X_train, y_train))\n",
    "print('Cross Val Score:', cross_val_score(model, X_train, y_train, cv=kf).mean())\n",
    "print('Test Score:', model.score(X_test, y_test))"
   ]
  },
  {
   "cell_type": "code",
   "execution_count": 32,
   "id": "59c6d9a0",
   "metadata": {},
   "outputs": [
    {
     "data": {
      "text/plain": [
       "array([0.77194753, 0.75277497, 0.73662967, 0.74949495, 0.74343434])"
      ]
     },
     "execution_count": 32,
     "metadata": {},
     "output_type": "execute_result"
    }
   ],
   "source": [
    "cross_val_score(model, X_train, y_train, cv=kf)"
   ]
  },
  {
   "cell_type": "code",
   "execution_count": 33,
   "id": "1590aa9b",
   "metadata": {},
   "outputs": [
    {
     "name": "stdout",
     "output_type": "stream",
     "text": [
      "Training Score: 0.886129618413083\n",
      "Cross Val Score: 0.8394871010814502\n",
      "Test Score: 0.8385794995964487\n"
     ]
    }
   ],
   "source": [
    "# Using inital subset of features\n",
    "\n",
    "model = BaggingClassifier(base_estimator=LogisticRegression(max_iter=1000))\n",
    "\n",
    "kf = KFold(n_splits=5, random_state=42, shuffle=True)\n",
    "\n",
    "model.fit(X_train[select_feat], y_train)\n",
    "\n",
    "print('Training Score:', model.score(X_train[select_feat], y_train))\n",
    "print('Cross Val Score:', cross_val_score(model, X_train[select_feat], y_train, cv=kf).mean())\n",
    "print('Test Score:', model.score(X_test[select_feat], y_test))"
   ]
  },
  {
   "cell_type": "code",
   "execution_count": 34,
   "id": "fb31eeab",
   "metadata": {},
   "outputs": [
    {
     "data": {
      "text/plain": [
       "array([0.84964682, 0.83652876, 0.84561049, 0.83434343, 0.82626263])"
      ]
     },
     "execution_count": 34,
     "metadata": {},
     "output_type": "execute_result"
    }
   ],
   "source": [
    "cross_val_score(model, X_train[select_feat], y_train, cv=kf)"
   ]
  },
  {
   "cell_type": "code",
   "execution_count": 35,
   "id": "7d8fbb99",
   "metadata": {},
   "outputs": [
    {
     "name": "stdout",
     "output_type": "stream",
     "text": [
      "Training Score: 0.8295982232990107\n",
      "Cross Val Score: 0.8308039017827109\n",
      "Test Score: 0.8071025020177562\n"
     ]
    }
   ],
   "source": [
    "# Using second narrower subset of features\n",
    "\n",
    "model = BaggingClassifier(base_estimator=LogisticRegression(max_iter=1000))\n",
    "\n",
    "kf = KFold(n_splits=5, random_state=42, shuffle=True)\n",
    "\n",
    "model.fit(X_train[super_select_feat], y_train)\n",
    "\n",
    "print('Training Score:', model.score(X_train[super_select_feat], y_train))\n",
    "print('Cross Val Score:', cross_val_score(model, X_train[super_select_feat], y_train, cv=kf).mean())\n",
    "print('Test Score:', model.score(X_test[super_select_feat], y_test))"
   ]
  },
  {
   "cell_type": "code",
   "execution_count": 36,
   "id": "80abed57",
   "metadata": {},
   "outputs": [
    {
     "data": {
      "text/plain": [
       "array([0.8506559 , 0.84056509, 0.83753784, 0.8020202 , 0.81717172])"
      ]
     },
     "execution_count": 36,
     "metadata": {},
     "output_type": "execute_result"
    }
   ],
   "source": [
    "cross_val_score(model, X_train[super_select_feat], y_train, cv=kf)"
   ]
  },
  {
   "cell_type": "markdown",
   "id": "27ec2842",
   "metadata": {},
   "source": [
    "Bagging Classifier with Logistic Regression and bootstrap_features=True"
   ]
  },
  {
   "cell_type": "code",
   "execution_count": 53,
   "id": "11945087",
   "metadata": {},
   "outputs": [
    {
     "name": "stdout",
     "output_type": "stream",
     "text": [
      "Training Score: 0.9886937209771856\n",
      "Cross Val Score: 0.7536841676094955\n",
      "Test Score: 0.738498789346247\n"
     ]
    }
   ],
   "source": [
    "# Using all features\n",
    "\n",
    "model = BaggingClassifier(base_estimator=LogisticRegression(max_iter=1000), bootstrap_features=True)\n",
    "\n",
    "kf = KFold(n_splits=5, random_state=42, shuffle=True)\n",
    "\n",
    "model.fit(X_train, y_train)\n",
    "\n",
    "print('Training Score:', model.score(X_train, y_train))\n",
    "print('Cross Val Score:', cross_val_score(model, X_train, y_train, cv=kf).mean())\n",
    "print('Test Score:', model.score(X_test, y_test))"
   ]
  },
  {
   "cell_type": "code",
   "execution_count": 54,
   "id": "5ab69693",
   "metadata": {},
   "outputs": [
    {
     "data": {
      "text/plain": [
       "array([0.76185671, 0.75882947, 0.75782038, 0.74848485, 0.75858586])"
      ]
     },
     "execution_count": 54,
     "metadata": {},
     "output_type": "execute_result"
    }
   ],
   "source": [
    "cross_val_score(model, X_train, y_train, cv=kf)"
   ]
  },
  {
   "cell_type": "code",
   "execution_count": 37,
   "id": "210e8d4e",
   "metadata": {},
   "outputs": [
    {
     "name": "stdout",
     "output_type": "stream",
     "text": [
      "Training Score: 0.886129618413083\n",
      "Cross Val Score: 0.8463523224169036\n",
      "Test Score: 0.8523002421307506\n"
     ]
    }
   ],
   "source": [
    "# Using inital subset of features\n",
    "\n",
    "model = BaggingClassifier(base_estimator=LogisticRegression(max_iter=1000), bootstrap_features=True)\n",
    "\n",
    "kf = KFold(n_splits=5, random_state=42, shuffle=True)\n",
    "\n",
    "model.fit(X_train[select_feat], y_train)\n",
    "\n",
    "print('Training Score:', model.score(X_train[select_feat], y_train))\n",
    "print('Cross Val Score:', cross_val_score(model, X_train[select_feat], y_train, cv=kf).mean())\n",
    "print('Test Score:', model.score(X_test[select_feat], y_test))"
   ]
  },
  {
   "cell_type": "code",
   "execution_count": 38,
   "id": "d34ecbb8",
   "metadata": {},
   "outputs": [
    {
     "data": {
      "text/plain": [
       "array([0.85166498, 0.84561049, 0.86478305, 0.84242424, 0.83939394])"
      ]
     },
     "execution_count": 38,
     "metadata": {},
     "output_type": "execute_result"
    }
   ],
   "source": [
    "cross_val_score(model, X_train[select_feat], y_train, cv=kf)"
   ]
  },
  {
   "cell_type": "code",
   "execution_count": 39,
   "id": "ab8ad790",
   "metadata": {},
   "outputs": [
    {
     "name": "stdout",
     "output_type": "stream",
     "text": [
      "Training Score: 0.8304058146577832\n",
      "Cross Val Score: 0.8443282471536759\n",
      "Test Score: 0.8062953995157385\n"
     ]
    }
   ],
   "source": [
    "# Using second narrower subset of features\n",
    "\n",
    "model = BaggingClassifier(base_estimator=LogisticRegression(max_iter=1000), bootstrap_features=True)\n",
    "\n",
    "kf = KFold(n_splits=5, random_state=42, shuffle=True)\n",
    "\n",
    "model.fit(X_train[super_select_feat], y_train)\n",
    "\n",
    "print('Training Score:', model.score(X_train[super_select_feat], y_train))\n",
    "print('Cross Val Score:', cross_val_score(model, X_train[super_select_feat], y_train, cv=kf).mean())\n",
    "print('Test Score:', model.score(X_test[super_select_feat], y_test))"
   ]
  },
  {
   "cell_type": "code",
   "execution_count": 40,
   "id": "62155343",
   "metadata": {},
   "outputs": [
    {
     "data": {
      "text/plain": [
       "array([0.84258325, 0.84258325, 0.83551968, 0.81515152, 0.82020202])"
      ]
     },
     "execution_count": 40,
     "metadata": {},
     "output_type": "execute_result"
    }
   ],
   "source": [
    "cross_val_score(model, X_train[super_select_feat], y_train, cv=kf)"
   ]
  },
  {
   "cell_type": "markdown",
   "id": "199d9ac4",
   "metadata": {},
   "source": [
    "### Decision Tree Variants"
   ]
  },
  {
   "cell_type": "markdown",
   "id": "9c499e78",
   "metadata": {},
   "source": [
    "Decision Tree"
   ]
  },
  {
   "cell_type": "code",
   "execution_count": 55,
   "id": "71916905",
   "metadata": {},
   "outputs": [
    {
     "name": "stdout",
     "output_type": "stream",
     "text": [
      "Training Score: 1.0\n",
      "Cross Val Score: 0.9127798672904627\n",
      "Test Score: 0.9112187247780468\n"
     ]
    }
   ],
   "source": [
    "# Decision Tree with all features\n",
    "\n",
    "dtc = DecisionTreeClassifier()\n",
    "\n",
    "kf = KFold(n_splits=5, random_state=42, shuffle=True)\n",
    "\n",
    "dtc.fit(X_train, y_train)\n",
    "\n",
    "print('Training Score:', dtc.score(X_train, y_train))\n",
    "print('Cross Val Score:', cross_val_score(dtc, X_train, y_train, cv=kf).mean())\n",
    "print('Test Score:', dtc.score(X_test, y_test))"
   ]
  },
  {
   "cell_type": "code",
   "execution_count": 56,
   "id": "3c875951",
   "metadata": {},
   "outputs": [
    {
     "data": {
      "text/plain": [
       "array([0.9172553 , 0.91523713, 0.91220989, 0.91919192, 0.91515152])"
      ]
     },
     "execution_count": 56,
     "metadata": {},
     "output_type": "execute_result"
    }
   ],
   "source": [
    "cross_val_score(dtc, X_train, y_train, cv=kf)"
   ]
  },
  {
   "cell_type": "code",
   "execution_count": 41,
   "id": "0cca2ad4",
   "metadata": {},
   "outputs": [
    {
     "name": "stdout",
     "output_type": "stream",
     "text": [
      "Training Score: 0.9997981021603068\n",
      "Cross Val Score: 0.9137918029946285\n",
      "Test Score: 0.9128329297820823\n"
     ]
    }
   ],
   "source": [
    "# Decision Tree with initial subset of features\n",
    "\n",
    "dtc = DecisionTreeClassifier()\n",
    "\n",
    "kf = KFold(n_splits=5, random_state=42, shuffle=True)\n",
    "\n",
    "dtc.fit(X_train[select_feat], y_train)\n",
    "\n",
    "print('Training Score:', dtc.score(X_train[select_feat], y_train))\n",
    "print('Cross Val Score:', cross_val_score(dtc, X_train[select_feat], y_train, cv=kf).mean())\n",
    "print('Test Score:', dtc.score(X_test[select_feat], y_test))"
   ]
  },
  {
   "cell_type": "code",
   "execution_count": 42,
   "id": "8a626765",
   "metadata": {},
   "outputs": [
    {
     "data": {
      "text/plain": [
       "array([0.92028254, 0.90413724, 0.90918264, 0.92020202, 0.92222222])"
      ]
     },
     "execution_count": 42,
     "metadata": {},
     "output_type": "execute_result"
    }
   ],
   "source": [
    "cross_val_score(dtc, X_train[select_feat], y_train, cv=kf)"
   ]
  },
  {
   "cell_type": "code",
   "execution_count": 43,
   "id": "2782403c",
   "metadata": {},
   "outputs": [
    {
     "name": "stdout",
     "output_type": "stream",
     "text": [
      "Training Score: 0.9993943064809206\n",
      "Cross Val Score: 0.9018764843184621\n",
      "Test Score: 0.8999192897497982\n"
     ]
    }
   ],
   "source": [
    "# Decision Tree with second narrower subset of features\n",
    "\n",
    "dtc = DecisionTreeClassifier()\n",
    "\n",
    "kf = KFold(n_splits=5, random_state=42, shuffle=True)\n",
    "\n",
    "dtc.fit(X_train[super_select_feat], y_train)\n",
    "\n",
    "print('Training Score:', dtc.score(X_train[super_select_feat], y_train))\n",
    "print('Cross Val Score:', cross_val_score(dtc, X_train[super_select_feat], y_train, cv=kf).mean())\n",
    "print('Test Score:', dtc.score(X_test[super_select_feat], y_test))"
   ]
  },
  {
   "cell_type": "code",
   "execution_count": 44,
   "id": "8b5225d0",
   "metadata": {},
   "outputs": [
    {
     "data": {
      "text/plain": [
       "array([0.91321897, 0.90413724, 0.90010091, 0.89494949, 0.90707071])"
      ]
     },
     "execution_count": 44,
     "metadata": {},
     "output_type": "execute_result"
    }
   ],
   "source": [
    "cross_val_score(dtc, X_train[super_select_feat], y_train, cv=kf)"
   ]
  },
  {
   "cell_type": "markdown",
   "id": "91d772b8",
   "metadata": {},
   "source": [
    "Bagging Classifier with Decision Tree"
   ]
  },
  {
   "cell_type": "code",
   "execution_count": 57,
   "id": "73e2075c",
   "metadata": {},
   "outputs": [
    {
     "name": "stdout",
     "output_type": "stream",
     "text": [
      "Training Score: 0.9917221885725823\n",
      "Cross Val Score: 0.9339795533539228\n",
      "Test Score: 0.9297820823244553\n"
     ]
    }
   ],
   "source": [
    "# Using all features\n",
    "\n",
    "bc = BaggingClassifier(base_estimator=DecisionTreeClassifier())\n",
    "\n",
    "kf = KFold(n_splits=5, random_state=42, shuffle=True)\n",
    "\n",
    "bc.fit(X_train, y_train)\n",
    "\n",
    "print('Training Score:', bc.score(X_train, y_train))\n",
    "print('Cross Val Score:', cross_val_score(bc, X_train, y_train, cv=kf).mean())\n",
    "print('Test Score:', bc.score(X_test, y_test))"
   ]
  },
  {
   "cell_type": "code",
   "execution_count": 58,
   "id": "911953ae",
   "metadata": {},
   "outputs": [
    {
     "data": {
      "text/plain": [
       "array([0.93743693, 0.93239152, 0.92633703, 0.93030303, 0.93333333])"
      ]
     },
     "execution_count": 58,
     "metadata": {},
     "output_type": "execute_result"
    }
   ],
   "source": [
    "cross_val_score(bc, X_train, y_train, cv=kf)"
   ]
  },
  {
   "cell_type": "code",
   "execution_count": 45,
   "id": "f80727a8",
   "metadata": {},
   "outputs": [
    {
     "name": "stdout",
     "output_type": "stream",
     "text": [
      "Training Score: 0.9905108015344236\n",
      "Cross Val Score: 0.9323652264318257\n",
      "Test Score: 0.9265536723163842\n"
     ]
    }
   ],
   "source": [
    "# Using initial subset of features\n",
    "\n",
    "bc = BaggingClassifier(base_estimator=DecisionTreeClassifier())\n",
    "\n",
    "kf = KFold(n_splits=5, random_state=42, shuffle=True)\n",
    "\n",
    "bc.fit(X_train[select_feat], y_train)\n",
    "\n",
    "print('Training Score:', bc.score(X_train[select_feat], y_train))\n",
    "print('Cross Val Score:', cross_val_score(bc, X_train[select_feat], y_train, cv=kf).mean())\n",
    "print('Test Score:', bc.score(X_test[select_feat], y_test))"
   ]
  },
  {
   "cell_type": "code",
   "execution_count": 46,
   "id": "714a4815",
   "metadata": {},
   "outputs": [
    {
     "data": {
      "text/plain": [
       "array([0.93642785, 0.92330979, 0.92936428, 0.93535354, 0.92626263])"
      ]
     },
     "execution_count": 46,
     "metadata": {},
     "output_type": "execute_result"
    }
   ],
   "source": [
    "cross_val_score(bc, X_train[select_feat], y_train, cv=kf)"
   ]
  },
  {
   "cell_type": "code",
   "execution_count": 47,
   "id": "812b6e69",
   "metadata": {},
   "outputs": [
    {
     "name": "stdout",
     "output_type": "stream",
     "text": [
      "Training Score: 0.9901070058550373\n",
      "Cross Val Score: 0.928124025318778\n",
      "Test Score: 0.9249394673123487\n"
     ]
    }
   ],
   "source": [
    "# Using second narrower subset of features\n",
    "\n",
    "bc = BaggingClassifier(base_estimator=DecisionTreeClassifier())\n",
    "\n",
    "kf = KFold(n_splits=5, random_state=42, shuffle=True)\n",
    "\n",
    "bc.fit(X_train[super_select_feat], y_train)\n",
    "\n",
    "print('Training Score:', bc.score(X_train[super_select_feat], y_train))\n",
    "print('Cross Val Score:', cross_val_score(bc, X_train[super_select_feat], y_train, cv=kf).mean())\n",
    "print('Test Score:', bc.score(X_test[super_select_feat], y_test))"
   ]
  },
  {
   "cell_type": "code",
   "execution_count": 48,
   "id": "7929b374",
   "metadata": {},
   "outputs": [
    {
     "data": {
      "text/plain": [
       "array([0.93440969, 0.92532795, 0.93239152, 0.92626263, 0.93434343])"
      ]
     },
     "execution_count": 48,
     "metadata": {},
     "output_type": "execute_result"
    }
   ],
   "source": [
    "cross_val_score(bc, X_train[super_select_feat], y_train, cv=kf)"
   ]
  },
  {
   "cell_type": "markdown",
   "id": "a3a149b0",
   "metadata": {},
   "source": [
    "Random Forest"
   ]
  },
  {
   "cell_type": "code",
   "execution_count": 59,
   "id": "16e133fd",
   "metadata": {},
   "outputs": [
    {
     "name": "stdout",
     "output_type": "stream",
     "text": [
      "Training Score: 1.0\n",
      "Cross Val Score: 0.9133853163318351\n",
      "Test Score: 0.9063761097659403\n"
     ]
    }
   ],
   "source": [
    "# Using all features\n",
    "\n",
    "rfc = RandomForestClassifier()\n",
    "\n",
    "kf = KFold(n_splits=5, random_state=42, shuffle=True)\n",
    "\n",
    "rfc.fit(X_train, y_train)\n",
    "\n",
    "print('Training Score:', rfc.score(X_train, y_train))\n",
    "print('Cross Val Score:', cross_val_score(rfc, X_train, y_train, cv=kf).mean())\n",
    "print('Test Score:', rfc.score(X_test, y_test))"
   ]
  },
  {
   "cell_type": "code",
   "execution_count": 60,
   "id": "935cc4f4",
   "metadata": {},
   "outputs": [
    {
     "data": {
      "text/plain": [
       "array([0.92330979, 0.91120081, 0.91826438, 0.92020202, 0.92222222])"
      ]
     },
     "execution_count": 60,
     "metadata": {},
     "output_type": "execute_result"
    }
   ],
   "source": [
    "cross_val_score(rfc, X_train, y_train, cv=kf)"
   ]
  },
  {
   "cell_type": "code",
   "execution_count": 49,
   "id": "1674b585",
   "metadata": {},
   "outputs": [
    {
     "name": "stdout",
     "output_type": "stream",
     "text": [
      "Training Score: 0.9997981021603068\n",
      "Cross Val Score: 0.9372080033432203\n",
      "Test Score: 0.9378531073446328\n"
     ]
    }
   ],
   "source": [
    "# Using initial subset of features\n",
    "\n",
    "rfc = RandomForestClassifier()\n",
    "\n",
    "kf = KFold(n_splits=5, random_state=42, shuffle=True)\n",
    "\n",
    "rfc.fit(X_train[select_feat], y_train)\n",
    "\n",
    "print('Training Score:', rfc.score(X_train[select_feat], y_train))\n",
    "print('Cross Val Score:', cross_val_score(rfc, X_train[select_feat], y_train, cv=kf).mean())\n",
    "print('Test Score:', rfc.score(X_test[select_feat], y_test))"
   ]
  },
  {
   "cell_type": "code",
   "execution_count": 50,
   "id": "d260815f",
   "metadata": {},
   "outputs": [
    {
     "data": {
      "text/plain": [
       "array([0.93743693, 0.93440969, 0.9445005 , 0.94040404, 0.93737374])"
      ]
     },
     "execution_count": 50,
     "metadata": {},
     "output_type": "execute_result"
    }
   ],
   "source": [
    "cross_val_score(rfc, X_train[select_feat], y_train, cv=kf)"
   ]
  },
  {
   "cell_type": "code",
   "execution_count": 51,
   "id": "b1e5bc5d",
   "metadata": {},
   "outputs": [
    {
     "name": "stdout",
     "output_type": "stream",
     "text": [
      "Training Score: 0.9993943064809206\n",
      "Cross Val Score: 0.9351924899856282\n",
      "Test Score: 0.9265536723163842\n"
     ]
    }
   ],
   "source": [
    "# Using second narrower subset of features\n",
    "\n",
    "rfc = RandomForestClassifier()\n",
    "\n",
    "kf = KFold(n_splits=5, random_state=42, shuffle=True)\n",
    "\n",
    "rfc.fit(X_train[super_select_feat], y_train)\n",
    "\n",
    "print('Training Score:', rfc.score(X_train[super_select_feat], y_train))\n",
    "print('Cross Val Score:', cross_val_score(rfc, X_train[super_select_feat], y_train, cv=kf).mean())\n",
    "print('Test Score:', rfc.score(X_test[super_select_feat], y_test))"
   ]
  },
  {
   "cell_type": "code",
   "execution_count": 52,
   "id": "91bf8c86",
   "metadata": {},
   "outputs": [
    {
     "data": {
      "text/plain": [
       "array([0.93844601, 0.92230071, 0.92734612, 0.93636364, 0.93636364])"
      ]
     },
     "execution_count": 52,
     "metadata": {},
     "output_type": "execute_result"
    }
   ],
   "source": [
    "cross_val_score(rfc, X_train[super_select_feat], y_train, cv=kf)"
   ]
  },
  {
   "cell_type": "code",
   "execution_count": null,
   "id": "adef8f1f",
   "metadata": {},
   "outputs": [],
   "source": []
  },
  {
   "cell_type": "markdown",
   "id": "7042af87",
   "metadata": {},
   "source": [
    "# Analysis & Evaluation "
   ]
  },
  {
   "cell_type": "markdown",
   "id": "5fd94abe",
   "metadata": {},
   "source": [
    "Best Performing Model - Random Forest Classifier with initial feature subset (select_feat)"
   ]
  },
  {
   "cell_type": "code",
   "execution_count": 63,
   "id": "6cfe9975",
   "metadata": {},
   "outputs": [
    {
     "name": "stdout",
     "output_type": "stream",
     "text": [
      "Training Score: 0.9997981021603068\n",
      "Cross Val Score: 0.9380162880061972\n",
      "Test Score: 0.937046004842615\n"
     ]
    }
   ],
   "source": [
    "rfc = RandomForestClassifier()\n",
    "\n",
    "kf = KFold(n_splits=5, random_state=42, shuffle=True)\n",
    "\n",
    "rfc.fit(X_train[select_feat], y_train)\n",
    "\n",
    "print('Training Score:', rfc.score(X_train[select_feat], y_train))\n",
    "print('Cross Val Score:', cross_val_score(rfc, X_train[select_feat], y_train, cv=kf).mean())\n",
    "print('Test Score:', rfc.score(X_test[select_feat], y_test))"
   ]
  },
  {
   "cell_type": "code",
   "execution_count": 64,
   "id": "569c583d",
   "metadata": {},
   "outputs": [
    {
     "data": {
      "text/plain": [
       "array([0.94147326, 0.93239152, 0.94147326, 0.93838384, 0.93737374])"
      ]
     },
     "execution_count": 64,
     "metadata": {},
     "output_type": "execute_result"
    }
   ],
   "source": [
    "cross_val_score(rfc, X_train[select_feat], y_train, cv=kf)"
   ]
  },
  {
   "cell_type": "markdown",
   "id": "811198c3",
   "metadata": {},
   "source": [
    "The high mean CV score (>0.90) causes concerns about over-fitting. However the individual CV scores are very tight and both the individual CV scores and the mean CV score are very close to the test score.\n",
    "\n",
    "This would suggest that the model is infact not over-fitting and is performing remarkably well.\n",
    "\n",
    "Also if there were data leakage, scores of all models would be exceptionally high which is not the case as demonstrated by the score of the worst performing model/features combination ie Logistic Regression with all features achieving a mean CV Score of 0.7343030710740095 and a Test Score of 0.7029862792574657"
   ]
  },
  {
   "cell_type": "markdown",
   "id": "7020d9b4",
   "metadata": {},
   "source": [
    "Models using only the inital subset of features (select_feat) perform better than those using all features and those using the second narrower subset (super_select_feat)."
   ]
  },
  {
   "cell_type": "markdown",
   "id": "e6c27c70",
   "metadata": {},
   "source": [
    "Logistic Regression"
   ]
  },
  {
   "cell_type": "code",
   "execution_count": 127,
   "id": "fa682c2e",
   "metadata": {},
   "outputs": [
    {
     "name": "stdout",
     "output_type": "stream",
     "text": [
      "Training Score: 0.8881485968100141\n",
      "Cross Val Score: 0.8376689192632686\n",
      "Test Score: 0.8466505246166263\n"
     ]
    }
   ],
   "source": [
    "# Using this Logistic Regression model to extract coefficient signs\n",
    "# This allows us to identify which class each feature contributes to\n",
    "\n",
    "model = LogisticRegression(max_iter=1000)\n",
    "\n",
    "kf = KFold(n_splits=5, random_state=42, shuffle=True)\n",
    "\n",
    "model.fit(X_train[select_feat], y_train)\n",
    "\n",
    "print('Training Score:', model.score(X_train[select_feat], y_train))\n",
    "print('Cross Val Score:', cross_val_score(model, X_train[select_feat], y_train, cv=kf).mean())\n",
    "print('Test Score:', model.score(X_test[select_feat], y_test))"
   ]
  },
  {
   "cell_type": "code",
   "execution_count": 128,
   "id": "77ba6c43",
   "metadata": {},
   "outputs": [
    {
     "data": {
      "text/plain": [
       "array([0.85368315, 0.84056509, 0.84460141, 0.82525253, 0.82424242])"
      ]
     },
     "execution_count": 128,
     "metadata": {},
     "output_type": "execute_result"
    }
   ],
   "source": [
    "cross_val_score(model, X_train[select_feat], y_train, cv=kf)"
   ]
  },
  {
   "cell_type": "code",
   "execution_count": null,
   "id": "a3a564bc",
   "metadata": {},
   "outputs": [],
   "source": []
  },
  {
   "cell_type": "code",
   "execution_count": 161,
   "id": "8cc952c4",
   "metadata": {},
   "outputs": [],
   "source": [
    "# Random Forest Feature Importances\n",
    "\n",
    "tree_sig_df = pd.DataFrame(list(zip(rfc.feature_names_in_, rfc.feature_importances_)), \n",
    "                           columns=['feature', 'importance'])"
   ]
  },
  {
   "cell_type": "code",
   "execution_count": 162,
   "id": "57e80bb9",
   "metadata": {},
   "outputs": [],
   "source": [
    "# Logistic Regression Coefficients\n",
    "\n",
    "log_sig_df = pd.DataFrame(list(zip(model.feature_names_in_, model.coef_[0])), \n",
    "                          columns=['feature', 'coefficient'])"
   ]
  },
  {
   "cell_type": "code",
   "execution_count": 163,
   "id": "7374f4f2",
   "metadata": {},
   "outputs": [],
   "source": [
    "# Creating a pandas dataframe containing the features in our initial subset\n",
    "# as well as their importance (Random Forest) and coefficient (Logistic Regression)\n",
    "\n",
    "analysis_df = pd.merge(tree_sig_df, log_sig_df, how='inner', on='feature')"
   ]
  },
  {
   "cell_type": "code",
   "execution_count": 164,
   "id": "76c14d74",
   "metadata": {},
   "outputs": [
    {
     "data": {
      "text/html": [
       "<div>\n",
       "<style scoped>\n",
       "    .dataframe tbody tr th:only-of-type {\n",
       "        vertical-align: middle;\n",
       "    }\n",
       "\n",
       "    .dataframe tbody tr th {\n",
       "        vertical-align: top;\n",
       "    }\n",
       "\n",
       "    .dataframe thead th {\n",
       "        text-align: right;\n",
       "    }\n",
       "</style>\n",
       "<table border=\"1\" class=\"dataframe\">\n",
       "  <thead>\n",
       "    <tr style=\"text-align: right;\">\n",
       "      <th></th>\n",
       "      <th>feature</th>\n",
       "      <th>importance</th>\n",
       "      <th>coefficient</th>\n",
       "    </tr>\n",
       "  </thead>\n",
       "  <tbody>\n",
       "    <tr>\n",
       "      <th>0</th>\n",
       "      <td>AskReddit</td>\n",
       "      <td>0.019729</td>\n",
       "      <td>-0.181334</td>\n",
       "    </tr>\n",
       "    <tr>\n",
       "      <th>1</th>\n",
       "      <td>aww</td>\n",
       "      <td>0.204557</td>\n",
       "      <td>-4.569824</td>\n",
       "    </tr>\n",
       "    <tr>\n",
       "      <th>2</th>\n",
       "      <td>pics</td>\n",
       "      <td>0.015245</td>\n",
       "      <td>0.007791</td>\n",
       "    </tr>\n",
       "    <tr>\n",
       "      <th>3</th>\n",
       "      <td>funny</td>\n",
       "      <td>0.013293</td>\n",
       "      <td>-0.037399</td>\n",
       "    </tr>\n",
       "    <tr>\n",
       "      <th>4</th>\n",
       "      <td>interestingasfuck</td>\n",
       "      <td>0.005285</td>\n",
       "      <td>-0.017194</td>\n",
       "    </tr>\n",
       "    <tr>\n",
       "      <th>...</th>\n",
       "      <td>...</td>\n",
       "      <td>...</td>\n",
       "      <td>...</td>\n",
       "    </tr>\n",
       "    <tr>\n",
       "      <th>393</th>\n",
       "      <td>Nio</td>\n",
       "      <td>0.000082</td>\n",
       "      <td>0.568674</td>\n",
       "    </tr>\n",
       "    <tr>\n",
       "      <th>394</th>\n",
       "      <td>algotrading</td>\n",
       "      <td>0.000110</td>\n",
       "      <td>0.029214</td>\n",
       "    </tr>\n",
       "    <tr>\n",
       "      <th>395</th>\n",
       "      <td>AreTheStraightsOK</td>\n",
       "      <td>0.000129</td>\n",
       "      <td>-0.791729</td>\n",
       "    </tr>\n",
       "    <tr>\n",
       "      <th>396</th>\n",
       "      <td>supersecretyachtclub</td>\n",
       "      <td>0.000121</td>\n",
       "      <td>0.716455</td>\n",
       "    </tr>\n",
       "    <tr>\n",
       "      <th>397</th>\n",
       "      <td>ClashRoyale</td>\n",
       "      <td>0.000187</td>\n",
       "      <td>0.049281</td>\n",
       "    </tr>\n",
       "  </tbody>\n",
       "</table>\n",
       "<p>398 rows × 3 columns</p>\n",
       "</div>"
      ],
      "text/plain": [
       "                  feature  importance  coefficient\n",
       "0               AskReddit    0.019729    -0.181334\n",
       "1                     aww    0.204557    -4.569824\n",
       "2                    pics    0.015245     0.007791\n",
       "3                   funny    0.013293    -0.037399\n",
       "4       interestingasfuck    0.005285    -0.017194\n",
       "..                    ...         ...          ...\n",
       "393                   Nio    0.000082     0.568674\n",
       "394           algotrading    0.000110     0.029214\n",
       "395     AreTheStraightsOK    0.000129    -0.791729\n",
       "396  supersecretyachtclub    0.000121     0.716455\n",
       "397           ClashRoyale    0.000187     0.049281\n",
       "\n",
       "[398 rows x 3 columns]"
      ]
     },
     "execution_count": 164,
     "metadata": {},
     "output_type": "execute_result"
    }
   ],
   "source": [
    "analysis_df"
   ]
  },
  {
   "cell_type": "code",
   "execution_count": 173,
   "id": "8a9bbed5",
   "metadata": {},
   "outputs": [],
   "source": [
    "# Creating a new column and applying the coefficient signs (+/-) to the feature importance values\n",
    "# Features with positive values contribute to target class 1 ie has interacted with wallstreetbets\n",
    "# Those with negative values contribute to target class 0 ie has NOT interacted with wallstreetbets\n",
    "\n",
    "analysis_df['imp_vec'] = ''\n",
    "\n",
    "for i in range(len(analysis_df)):\n",
    "    \n",
    "    if analysis_df.loc[i, 'coefficient'] < 0:\n",
    "        \n",
    "        analysis_df.loc[i, 'imp_vec'] = analysis_df.loc[i, 'importance'] * -1\n",
    "        \n",
    "    else:\n",
    "        \n",
    "        analysis_df.loc[i, 'imp_vec'] = analysis_df.loc[i, 'importance']\n",
    "    "
   ]
  },
  {
   "cell_type": "code",
   "execution_count": 175,
   "id": "b2623ce7",
   "metadata": {},
   "outputs": [],
   "source": [
    "# Sorting the dataframe by the new column 'imp_vec' to identify the features with the most positive and negative values\n",
    "\n",
    "analysis_df.sort_values(by='imp_vec', inplace=True)\n",
    "analysis_df.reset_index(drop=True, inplace=True)"
   ]
  },
  {
   "cell_type": "code",
   "execution_count": 176,
   "id": "ce641b23",
   "metadata": {},
   "outputs": [
    {
     "data": {
      "text/html": [
       "<div>\n",
       "<style scoped>\n",
       "    .dataframe tbody tr th:only-of-type {\n",
       "        vertical-align: middle;\n",
       "    }\n",
       "\n",
       "    .dataframe tbody tr th {\n",
       "        vertical-align: top;\n",
       "    }\n",
       "\n",
       "    .dataframe thead th {\n",
       "        text-align: right;\n",
       "    }\n",
       "</style>\n",
       "<table border=\"1\" class=\"dataframe\">\n",
       "  <thead>\n",
       "    <tr style=\"text-align: right;\">\n",
       "      <th></th>\n",
       "      <th>feature</th>\n",
       "      <th>importance</th>\n",
       "      <th>coefficient</th>\n",
       "      <th>imp_vec</th>\n",
       "    </tr>\n",
       "  </thead>\n",
       "  <tbody>\n",
       "    <tr>\n",
       "      <th>0</th>\n",
       "      <td>aww</td>\n",
       "      <td>0.204557</td>\n",
       "      <td>-4.569824</td>\n",
       "      <td>-0.204557</td>\n",
       "    </tr>\n",
       "    <tr>\n",
       "      <th>1</th>\n",
       "      <td>science</td>\n",
       "      <td>0.072698</td>\n",
       "      <td>-5.612044</td>\n",
       "      <td>-0.072698</td>\n",
       "    </tr>\n",
       "    <tr>\n",
       "      <th>2</th>\n",
       "      <td>food</td>\n",
       "      <td>0.072410</td>\n",
       "      <td>-0.875341</td>\n",
       "      <td>-0.07241</td>\n",
       "    </tr>\n",
       "    <tr>\n",
       "      <th>3</th>\n",
       "      <td>AskReddit</td>\n",
       "      <td>0.019729</td>\n",
       "      <td>-0.181334</td>\n",
       "      <td>-0.019729</td>\n",
       "    </tr>\n",
       "    <tr>\n",
       "      <th>4</th>\n",
       "      <td>funny</td>\n",
       "      <td>0.013293</td>\n",
       "      <td>-0.037399</td>\n",
       "      <td>-0.013293</td>\n",
       "    </tr>\n",
       "    <tr>\n",
       "      <th>...</th>\n",
       "      <td>...</td>\n",
       "      <td>...</td>\n",
       "      <td>...</td>\n",
       "      <td>...</td>\n",
       "    </tr>\n",
       "    <tr>\n",
       "      <th>393</th>\n",
       "      <td>pics</td>\n",
       "      <td>0.015245</td>\n",
       "      <td>0.007791</td>\n",
       "      <td>0.015245</td>\n",
       "    </tr>\n",
       "    <tr>\n",
       "      <th>394</th>\n",
       "      <td>StockMarket</td>\n",
       "      <td>0.017540</td>\n",
       "      <td>2.959843</td>\n",
       "      <td>0.01754</td>\n",
       "    </tr>\n",
       "    <tr>\n",
       "      <th>395</th>\n",
       "      <td>CryptoCurrency</td>\n",
       "      <td>0.019469</td>\n",
       "      <td>0.221166</td>\n",
       "      <td>0.019469</td>\n",
       "    </tr>\n",
       "    <tr>\n",
       "      <th>396</th>\n",
       "      <td>stocks</td>\n",
       "      <td>0.032658</td>\n",
       "      <td>0.445383</td>\n",
       "      <td>0.032658</td>\n",
       "    </tr>\n",
       "    <tr>\n",
       "      <th>397</th>\n",
       "      <td>Superstonk</td>\n",
       "      <td>0.042382</td>\n",
       "      <td>1.175734</td>\n",
       "      <td>0.042382</td>\n",
       "    </tr>\n",
       "  </tbody>\n",
       "</table>\n",
       "<p>398 rows × 4 columns</p>\n",
       "</div>"
      ],
      "text/plain": [
       "            feature  importance  coefficient   imp_vec\n",
       "0               aww    0.204557    -4.569824 -0.204557\n",
       "1           science    0.072698    -5.612044 -0.072698\n",
       "2              food    0.072410    -0.875341  -0.07241\n",
       "3         AskReddit    0.019729    -0.181334 -0.019729\n",
       "4             funny    0.013293    -0.037399 -0.013293\n",
       "..              ...         ...          ...       ...\n",
       "393            pics    0.015245     0.007791  0.015245\n",
       "394     StockMarket    0.017540     2.959843   0.01754\n",
       "395  CryptoCurrency    0.019469     0.221166  0.019469\n",
       "396          stocks    0.032658     0.445383  0.032658\n",
       "397      Superstonk    0.042382     1.175734  0.042382\n",
       "\n",
       "[398 rows x 4 columns]"
      ]
     },
     "execution_count": 176,
     "metadata": {},
     "output_type": "execute_result"
    }
   ],
   "source": [
    "analysis_df"
   ]
  },
  {
   "cell_type": "code",
   "execution_count": 182,
   "id": "1d72c551",
   "metadata": {
    "scrolled": true
   },
   "outputs": [],
   "source": [
    "# Extracting the 10 most positive values and the 10 most negative\n",
    "\n",
    "a_df = pd.concat([analysis_df.head(10), analysis_df.tail(10)])\n",
    "a_df.reset_index(drop=True, inplace=True)"
   ]
  },
  {
   "cell_type": "code",
   "execution_count": 183,
   "id": "be44d069",
   "metadata": {},
   "outputs": [
    {
     "data": {
      "text/html": [
       "<div>\n",
       "<style scoped>\n",
       "    .dataframe tbody tr th:only-of-type {\n",
       "        vertical-align: middle;\n",
       "    }\n",
       "\n",
       "    .dataframe tbody tr th {\n",
       "        vertical-align: top;\n",
       "    }\n",
       "\n",
       "    .dataframe thead th {\n",
       "        text-align: right;\n",
       "    }\n",
       "</style>\n",
       "<table border=\"1\" class=\"dataframe\">\n",
       "  <thead>\n",
       "    <tr style=\"text-align: right;\">\n",
       "      <th></th>\n",
       "      <th>feature</th>\n",
       "      <th>importance</th>\n",
       "      <th>coefficient</th>\n",
       "      <th>imp_vec</th>\n",
       "    </tr>\n",
       "  </thead>\n",
       "  <tbody>\n",
       "    <tr>\n",
       "      <th>0</th>\n",
       "      <td>aww</td>\n",
       "      <td>0.204557</td>\n",
       "      <td>-4.569824</td>\n",
       "      <td>-0.204557</td>\n",
       "    </tr>\n",
       "    <tr>\n",
       "      <th>1</th>\n",
       "      <td>science</td>\n",
       "      <td>0.072698</td>\n",
       "      <td>-5.612044</td>\n",
       "      <td>-0.072698</td>\n",
       "    </tr>\n",
       "    <tr>\n",
       "      <th>2</th>\n",
       "      <td>food</td>\n",
       "      <td>0.072410</td>\n",
       "      <td>-0.875341</td>\n",
       "      <td>-0.07241</td>\n",
       "    </tr>\n",
       "    <tr>\n",
       "      <th>3</th>\n",
       "      <td>AskReddit</td>\n",
       "      <td>0.019729</td>\n",
       "      <td>-0.181334</td>\n",
       "      <td>-0.019729</td>\n",
       "    </tr>\n",
       "    <tr>\n",
       "      <th>4</th>\n",
       "      <td>funny</td>\n",
       "      <td>0.013293</td>\n",
       "      <td>-0.037399</td>\n",
       "      <td>-0.013293</td>\n",
       "    </tr>\n",
       "    <tr>\n",
       "      <th>5</th>\n",
       "      <td>cats</td>\n",
       "      <td>0.007014</td>\n",
       "      <td>-0.061612</td>\n",
       "      <td>-0.007014</td>\n",
       "    </tr>\n",
       "    <tr>\n",
       "      <th>6</th>\n",
       "      <td>gaming</td>\n",
       "      <td>0.006880</td>\n",
       "      <td>-0.117635</td>\n",
       "      <td>-0.00688</td>\n",
       "    </tr>\n",
       "    <tr>\n",
       "      <th>7</th>\n",
       "      <td>MadeMeSmile</td>\n",
       "      <td>0.006322</td>\n",
       "      <td>-0.229009</td>\n",
       "      <td>-0.006322</td>\n",
       "    </tr>\n",
       "    <tr>\n",
       "      <th>8</th>\n",
       "      <td>news</td>\n",
       "      <td>0.006132</td>\n",
       "      <td>-0.090603</td>\n",
       "      <td>-0.006132</td>\n",
       "    </tr>\n",
       "    <tr>\n",
       "      <th>9</th>\n",
       "      <td>AnimalsBeingDerps</td>\n",
       "      <td>0.005568</td>\n",
       "      <td>-0.157902</td>\n",
       "      <td>-0.005568</td>\n",
       "    </tr>\n",
       "    <tr>\n",
       "      <th>10</th>\n",
       "      <td>todayilearned</td>\n",
       "      <td>0.009377</td>\n",
       "      <td>0.036110</td>\n",
       "      <td>0.009377</td>\n",
       "    </tr>\n",
       "    <tr>\n",
       "      <th>11</th>\n",
       "      <td>dogecoin</td>\n",
       "      <td>0.009795</td>\n",
       "      <td>1.725669</td>\n",
       "      <td>0.009795</td>\n",
       "    </tr>\n",
       "    <tr>\n",
       "      <th>12</th>\n",
       "      <td>investing</td>\n",
       "      <td>0.012699</td>\n",
       "      <td>0.251831</td>\n",
       "      <td>0.012699</td>\n",
       "    </tr>\n",
       "    <tr>\n",
       "      <th>13</th>\n",
       "      <td>GME</td>\n",
       "      <td>0.013853</td>\n",
       "      <td>0.990069</td>\n",
       "      <td>0.013853</td>\n",
       "    </tr>\n",
       "    <tr>\n",
       "      <th>14</th>\n",
       "      <td>options</td>\n",
       "      <td>0.014221</td>\n",
       "      <td>2.576463</td>\n",
       "      <td>0.014221</td>\n",
       "    </tr>\n",
       "    <tr>\n",
       "      <th>15</th>\n",
       "      <td>pics</td>\n",
       "      <td>0.015245</td>\n",
       "      <td>0.007791</td>\n",
       "      <td>0.015245</td>\n",
       "    </tr>\n",
       "    <tr>\n",
       "      <th>16</th>\n",
       "      <td>StockMarket</td>\n",
       "      <td>0.017540</td>\n",
       "      <td>2.959843</td>\n",
       "      <td>0.01754</td>\n",
       "    </tr>\n",
       "    <tr>\n",
       "      <th>17</th>\n",
       "      <td>CryptoCurrency</td>\n",
       "      <td>0.019469</td>\n",
       "      <td>0.221166</td>\n",
       "      <td>0.019469</td>\n",
       "    </tr>\n",
       "    <tr>\n",
       "      <th>18</th>\n",
       "      <td>stocks</td>\n",
       "      <td>0.032658</td>\n",
       "      <td>0.445383</td>\n",
       "      <td>0.032658</td>\n",
       "    </tr>\n",
       "    <tr>\n",
       "      <th>19</th>\n",
       "      <td>Superstonk</td>\n",
       "      <td>0.042382</td>\n",
       "      <td>1.175734</td>\n",
       "      <td>0.042382</td>\n",
       "    </tr>\n",
       "  </tbody>\n",
       "</table>\n",
       "</div>"
      ],
      "text/plain": [
       "              feature  importance  coefficient   imp_vec\n",
       "0                 aww    0.204557    -4.569824 -0.204557\n",
       "1             science    0.072698    -5.612044 -0.072698\n",
       "2                food    0.072410    -0.875341  -0.07241\n",
       "3           AskReddit    0.019729    -0.181334 -0.019729\n",
       "4               funny    0.013293    -0.037399 -0.013293\n",
       "5                cats    0.007014    -0.061612 -0.007014\n",
       "6              gaming    0.006880    -0.117635  -0.00688\n",
       "7         MadeMeSmile    0.006322    -0.229009 -0.006322\n",
       "8                news    0.006132    -0.090603 -0.006132\n",
       "9   AnimalsBeingDerps    0.005568    -0.157902 -0.005568\n",
       "10      todayilearned    0.009377     0.036110  0.009377\n",
       "11           dogecoin    0.009795     1.725669  0.009795\n",
       "12          investing    0.012699     0.251831  0.012699\n",
       "13                GME    0.013853     0.990069  0.013853\n",
       "14            options    0.014221     2.576463  0.014221\n",
       "15               pics    0.015245     0.007791  0.015245\n",
       "16        StockMarket    0.017540     2.959843   0.01754\n",
       "17     CryptoCurrency    0.019469     0.221166  0.019469\n",
       "18             stocks    0.032658     0.445383  0.032658\n",
       "19         Superstonk    0.042382     1.175734  0.042382"
      ]
     },
     "execution_count": 183,
     "metadata": {},
     "output_type": "execute_result"
    }
   ],
   "source": [
    "a_df"
   ]
  },
  {
   "cell_type": "code",
   "execution_count": 783,
   "id": "b44742b8",
   "metadata": {},
   "outputs": [],
   "source": []
  },
  {
   "cell_type": "code",
   "execution_count": 188,
   "id": "3e5f51d4",
   "metadata": {},
   "outputs": [
    {
     "data": {
      "text/plain": [
       "<BarContainer object of 20 artists>"
      ]
     },
     "execution_count": 188,
     "metadata": {},
     "output_type": "execute_result"
    },
    {
     "data": {
      "image/png": "[encoded data removed]",
      "text/plain": [
       "<Figure size 1080x1440 with 1 Axes>"
      ]
     },
     "metadata": {
      "needs_background": "light"
     },
     "output_type": "display_data"
    }
   ],
   "source": [
    "# Plotting a horizontal bar chart of the 20 most significant features along with which class they contribute to\n",
    "# Features with positive values contribute to target class 1 ie has interacted with wallstreetbets\n",
    "# Those with negative values contribute to target class 0 ie has NOT interacted with wallstreetbets\n",
    "\n",
    "plt.figure(figsize=(15, 20))\n",
    "plt.barh(a_df.feature, a_df.imp_vec)"
   ]
  },
  {
   "cell_type": "markdown",
   "id": "92505fc6",
   "metadata": {},
   "source": [
    "With the data we have, it is easier to predict that a user is not a member of 'wallstreetbets' than it is to predict that they are (ie easier to predict Target class of 0 than Target class of 1) as demonstrated by the figure above.\n",
    "\n",
    "ie by process of elimination."
   ]
  },
  {
   "cell_type": "code",
   "execution_count": null,
   "id": "6aeb709d",
   "metadata": {},
   "outputs": [],
   "source": []
  },
  {
   "cell_type": "code",
   "execution_count": 189,
   "id": "d4030b6a",
   "metadata": {},
   "outputs": [
    {
     "name": "stderr",
     "output_type": "stream",
     "text": [
      "/Users/ayman_aboufaied/opt/anaconda3/lib/python3.8/site-packages/sklearn/utils/deprecation.py:87: FutureWarning: Function plot_confusion_matrix is deprecated; Function `plot_confusion_matrix` is deprecated in 1.0 and will be removed in 1.2. Use one of the class methods: ConfusionMatrixDisplay.from_predictions or ConfusionMatrixDisplay.from_estimator.\n",
      "  warnings.warn(msg, category=FutureWarning)\n"
     ]
    },
    {
     "data": {
      "text/plain": [
       "<sklearn.metrics._plot.confusion_matrix.ConfusionMatrixDisplay at 0x7fb9d08822b0>"
      ]
     },
     "execution_count": 189,
     "metadata": {},
     "output_type": "execute_result"
    },
    {
     "data": {
      "text/plain": [
       "<Figure size 720x720 with 0 Axes>"
      ]
     },
     "metadata": {},
     "output_type": "display_data"
    },
    {
     "data": {
      "image/png": "[encoded data removed]",
      "text/plain": [
       "<Figure size 432x288 with 2 Axes>"
      ]
     },
     "metadata": {
      "needs_background": "light"
     },
     "output_type": "display_data"
    }
   ],
   "source": [
    "# Examing the normalised confusion matrix\n",
    "\n",
    "plt.figure(figsize=(10,10))\n",
    "plot_confusion_matrix(rfc, X_test[select_feat], y_test, normalize='true')"
   ]
  },
  {
   "cell_type": "code",
   "execution_count": null,
   "id": "8c145ef4",
   "metadata": {},
   "outputs": [],
   "source": []
  },
  {
   "cell_type": "code",
   "execution_count": 223,
   "id": "c3ea2c2b",
   "metadata": {},
   "outputs": [
    {
     "name": "stdout",
     "output_type": "stream",
     "text": [
      "              precision    recall  f1-score   support\n",
      "\n",
      "         0.0       0.91      0.96      0.94       597\n",
      "         1.0       0.97      0.91      0.94       642\n",
      "\n",
      "    accuracy                           0.94      1239\n",
      "   macro avg       0.94      0.94      0.94      1239\n",
      "weighted avg       0.94      0.94      0.94      1239\n",
      "\n"
     ]
    }
   ],
   "source": [
    "# Overview of key metrics to evaluate the model's performance \n",
    "\n",
    "print(classification_report(y_test, rfc.predict(X_test[select_feat])))"
   ]
  },
  {
   "cell_type": "code",
   "execution_count": null,
   "id": "d34518e0",
   "metadata": {},
   "outputs": [],
   "source": []
  },
  {
   "cell_type": "markdown",
   "id": "5d956461",
   "metadata": {},
   "source": [
    "#### Accuracy = (tp + tn) / (tp + fp + tn + fn)\n",
    "\n",
    "The accuracy measures the proportion of correct guesses, regardless of class.\n",
    "\n",
    "#### Precision = tp / (tp + fp)\n",
    "\n",
    "The precision measures how many times the true label was positive out of all the times the classifier predicted a positive label.\n",
    "\n",
    "#### Recall = tp / (tp + fn)\n",
    "\n",
    "The recall measures how many times the predicted label was positive out of all the times the true label was positive.\n",
    "\n",
    "#### F1-score = 2 * (precision * recall) / (precision + recall)\n",
    "\n",
    "The F1-score is the harmonic mean of the precision and recall metrics."
   ]
  },
  {
   "cell_type": "code",
   "execution_count": null,
   "id": "5d058356",
   "metadata": {},
   "outputs": [],
   "source": [
    "# precision and recall are the metrics we are most interested in - precision being the most important\n",
    "# we want everyone observation we predict a 1 for to actually be a 1"
   ]
  },
  {
   "cell_type": "code",
   "execution_count": null,
   "id": "50ca4136",
   "metadata": {},
   "outputs": [],
   "source": []
  },
  {
   "cell_type": "code",
   "execution_count": 226,
   "id": "be780c19",
   "metadata": {},
   "outputs": [
    {
     "name": "stderr",
     "output_type": "stream",
     "text": [
      "/Users/ayman_aboufaied/opt/anaconda3/lib/python3.8/site-packages/sklearn/utils/deprecation.py:87: FutureWarning: Function plot_roc_curve is deprecated; Function `plot_roc_curve` is deprecated in 1.0 and will be removed in 1.2. Use one of the class methods: RocCurveDisplay.from_predictions or RocCurveDisplay.from_estimator.\n",
      "  warnings.warn(msg, category=FutureWarning)\n"
     ]
    },
    {
     "data": {
      "text/plain": [
       "<sklearn.metrics._plot.roc_curve.RocCurveDisplay at 0x7fb9cc1bfaf0>"
      ]
     },
     "execution_count": 226,
     "metadata": {},
     "output_type": "execute_result"
    },
    {
     "data": {
      "image/png": "[encoded data removed]",
      "text/plain": [
       "<Figure size 432x288 with 1 Axes>"
      ]
     },
     "metadata": {
      "needs_background": "light"
     },
     "output_type": "display_data"
    }
   ],
   "source": [
    "# Taking a look at the ROC curve\n",
    "\n",
    "plot_roc_curve(rfc, X_test[select_feat], y_test) "
   ]
  },
  {
   "cell_type": "markdown",
   "id": "3143154e",
   "metadata": {},
   "source": [
    "#### True Positive Rate (Recall)\n",
    "\n",
    "The true positive rate measures how many times the predicted label was positive out of all the times the true label was positive.\n",
    "\n",
    "#### False Positive Rate\n",
    "\n",
    "The false positive rate measures how many times the predicted label was positive out of all the times the true label was negative."
   ]
  },
  {
   "cell_type": "markdown",
   "id": "e9f5532c",
   "metadata": {},
   "source": [
    "From the ROC (Receiver Operating Characteristic) curve above, we can evaluate that highest True Positive Rate (Recall) we can achieve without significantly increasing the False Positive Rate is slightly above 0.90 which results in a False Positive Rate of slightly below 0.05.\n",
    "\n",
    "In other words, it demonstrates the maximum proportion of the positive Target class we can correctly capture and label without also incorrectly capturing and mislabelling a significant proportion of the negative Target class."
   ]
  },
  {
   "cell_type": "code",
   "execution_count": 193,
   "id": "9807e158",
   "metadata": {},
   "outputs": [],
   "source": [
    "from sklearn.metrics import PrecisionRecallDisplay"
   ]
  },
  {
   "cell_type": "code",
   "execution_count": 194,
   "id": "f702bc44",
   "metadata": {},
   "outputs": [
    {
     "data": {
      "text/plain": [
       "<sklearn.metrics._plot.precision_recall_curve.PrecisionRecallDisplay at 0x7fb9cc1a6430>"
      ]
     },
     "execution_count": 194,
     "metadata": {},
     "output_type": "execute_result"
    },
    {
     "data": {
      "image/png": "[encoded data removed]",
      "text/plain": [
       "<Figure size 432x288 with 1 Axes>"
      ]
     },
     "metadata": {
      "needs_background": "light"
     },
     "output_type": "display_data"
    }
   ],
   "source": [
    "# Taking a look at the Precision Recall curve\n",
    "\n",
    "PrecisionRecallDisplay.from_estimator(rfc, X_test[select_feat], y_test)"
   ]
  },
  {
   "cell_type": "markdown",
   "id": "4f5c7ca9",
   "metadata": {},
   "source": [
    "#### Precision\n",
    "The precision measures how many times the true label was positive out of all the times the classifier predicted a positive label.\n",
    "\n",
    "#### Recall\n",
    "The recall measures how many times the predicted label was positive out of all the times the true label was positive."
   ]
  },
  {
   "cell_type": "markdown",
   "id": "035b314f",
   "metadata": {},
   "source": [
    "From the Precision Recall curve above, we can evaluate the highest Recall we can acheive without significantly diminishing the Precision is slightly below 0.95 which results in a Precision of slightly above 0.95.\n",
    "\n",
    "In other words, it demonstrates the proportion of the true positive Target class we are able to correctly capture and label as compared to what proportion of our predicted positive observations were correctly captured and labelled."
   ]
  },
  {
   "cell_type": "code",
   "execution_count": null,
   "id": "62b6beab",
   "metadata": {},
   "outputs": [],
   "source": [
    "# We want to minimize false positives\n",
    "# Trying to predict whether someone is a member of wallstreetbets\n",
    "# We would rather have everyone predicted to be a member actually be a member\n",
    "# and misclassify some members as non-members"
   ]
  },
  {
   "cell_type": "code",
   "execution_count": null,
   "id": "80a08480",
   "metadata": {},
   "outputs": [],
   "source": []
  },
  {
   "cell_type": "code",
   "execution_count": null,
   "id": "1bb3d400",
   "metadata": {},
   "outputs": [],
   "source": []
  },
  {
   "cell_type": "code",
   "execution_count": 195,
   "id": "fa4ec05e",
   "metadata": {},
   "outputs": [],
   "source": [
    "pred_true = pd.DataFrame(rfc.predict_proba(X_test[select_feat]))"
   ]
  },
  {
   "cell_type": "code",
   "execution_count": 196,
   "id": "f31ca41b",
   "metadata": {},
   "outputs": [],
   "source": [
    "pred_true['pred'] = rfc.predict(X_test[select_feat])\n",
    "pred_true['true'] = y_test.values"
   ]
  },
  {
   "cell_type": "code",
   "execution_count": 197,
   "id": "022f9c70",
   "metadata": {},
   "outputs": [
    {
     "data": {
      "text/html": [
       "<div>\n",
       "<style scoped>\n",
       "    .dataframe tbody tr th:only-of-type {\n",
       "        vertical-align: middle;\n",
       "    }\n",
       "\n",
       "    .dataframe tbody tr th {\n",
       "        vertical-align: top;\n",
       "    }\n",
       "\n",
       "    .dataframe thead th {\n",
       "        text-align: right;\n",
       "    }\n",
       "</style>\n",
       "<table border=\"1\" class=\"dataframe\">\n",
       "  <thead>\n",
       "    <tr style=\"text-align: right;\">\n",
       "      <th></th>\n",
       "      <th>0</th>\n",
       "      <th>1</th>\n",
       "      <th>pred</th>\n",
       "      <th>true</th>\n",
       "    </tr>\n",
       "  </thead>\n",
       "  <tbody>\n",
       "    <tr>\n",
       "      <th>0</th>\n",
       "      <td>0.86</td>\n",
       "      <td>0.14</td>\n",
       "      <td>0.0</td>\n",
       "      <td>0.0</td>\n",
       "    </tr>\n",
       "    <tr>\n",
       "      <th>1</th>\n",
       "      <td>0.96</td>\n",
       "      <td>0.04</td>\n",
       "      <td>0.0</td>\n",
       "      <td>0.0</td>\n",
       "    </tr>\n",
       "    <tr>\n",
       "      <th>2</th>\n",
       "      <td>0.97</td>\n",
       "      <td>0.03</td>\n",
       "      <td>0.0</td>\n",
       "      <td>0.0</td>\n",
       "    </tr>\n",
       "    <tr>\n",
       "      <th>3</th>\n",
       "      <td>0.03</td>\n",
       "      <td>0.97</td>\n",
       "      <td>1.0</td>\n",
       "      <td>1.0</td>\n",
       "    </tr>\n",
       "    <tr>\n",
       "      <th>4</th>\n",
       "      <td>0.90</td>\n",
       "      <td>0.10</td>\n",
       "      <td>0.0</td>\n",
       "      <td>0.0</td>\n",
       "    </tr>\n",
       "    <tr>\n",
       "      <th>...</th>\n",
       "      <td>...</td>\n",
       "      <td>...</td>\n",
       "      <td>...</td>\n",
       "      <td>...</td>\n",
       "    </tr>\n",
       "    <tr>\n",
       "      <th>1234</th>\n",
       "      <td>0.06</td>\n",
       "      <td>0.94</td>\n",
       "      <td>1.0</td>\n",
       "      <td>1.0</td>\n",
       "    </tr>\n",
       "    <tr>\n",
       "      <th>1235</th>\n",
       "      <td>0.94</td>\n",
       "      <td>0.06</td>\n",
       "      <td>0.0</td>\n",
       "      <td>0.0</td>\n",
       "    </tr>\n",
       "    <tr>\n",
       "      <th>1236</th>\n",
       "      <td>0.07</td>\n",
       "      <td>0.93</td>\n",
       "      <td>1.0</td>\n",
       "      <td>1.0</td>\n",
       "    </tr>\n",
       "    <tr>\n",
       "      <th>1237</th>\n",
       "      <td>0.93</td>\n",
       "      <td>0.07</td>\n",
       "      <td>0.0</td>\n",
       "      <td>0.0</td>\n",
       "    </tr>\n",
       "    <tr>\n",
       "      <th>1238</th>\n",
       "      <td>0.91</td>\n",
       "      <td>0.09</td>\n",
       "      <td>0.0</td>\n",
       "      <td>0.0</td>\n",
       "    </tr>\n",
       "  </tbody>\n",
       "</table>\n",
       "<p>1239 rows × 4 columns</p>\n",
       "</div>"
      ],
      "text/plain": [
       "         0     1  pred  true\n",
       "0     0.86  0.14   0.0   0.0\n",
       "1     0.96  0.04   0.0   0.0\n",
       "2     0.97  0.03   0.0   0.0\n",
       "3     0.03  0.97   1.0   1.0\n",
       "4     0.90  0.10   0.0   0.0\n",
       "...    ...   ...   ...   ...\n",
       "1234  0.06  0.94   1.0   1.0\n",
       "1235  0.94  0.06   0.0   0.0\n",
       "1236  0.07  0.93   1.0   1.0\n",
       "1237  0.93  0.07   0.0   0.0\n",
       "1238  0.91  0.09   0.0   0.0\n",
       "\n",
       "[1239 rows x 4 columns]"
      ]
     },
     "execution_count": 197,
     "metadata": {},
     "output_type": "execute_result"
    }
   ],
   "source": [
    "pred_true"
   ]
  },
  {
   "cell_type": "code",
   "execution_count": null,
   "id": "977597f8",
   "metadata": {},
   "outputs": [],
   "source": []
  },
  {
   "cell_type": "code",
   "execution_count": 198,
   "id": "4cfe2fea",
   "metadata": {},
   "outputs": [
    {
     "data": {
      "text/plain": [
       "0.8946010657477053"
      ]
     },
     "execution_count": 198,
     "metadata": {},
     "output_type": "execute_result"
    }
   ],
   "source": [
    "# Mean predict_proba when we correctly predict target value of 1 (predict 1, actual 1)\n",
    "\n",
    "pred_true[(pred_true.pred == 1) & (pred_true.pred == pred_true.true)][1].mean()"
   ]
  },
  {
   "cell_type": "code",
   "execution_count": 199,
   "id": "462de793",
   "metadata": {},
   "outputs": [
    {
     "data": {
      "text/plain": [
       "0.6987574829240857"
      ]
     },
     "execution_count": 199,
     "metadata": {},
     "output_type": "execute_result"
    }
   ],
   "source": [
    "# Mean predict_proba when we incorrectly predict target value of 1 (predict 1, actual 0)\n",
    "\n",
    "pred_true[(pred_true.pred == 1) & (pred_true.pred != pred_true.true)][1].mean()"
   ]
  },
  {
   "cell_type": "code",
   "execution_count": null,
   "id": "5ccc3062",
   "metadata": {},
   "outputs": [],
   "source": []
  },
  {
   "cell_type": "code",
   "execution_count": 200,
   "id": "eb8552b9",
   "metadata": {},
   "outputs": [],
   "source": [
    "# Implementing an new probability threshold of 0.8 (default is 0.5) to examine the tradeoff between precision & recall\n",
    "\n",
    "pred_80 = []\n",
    "\n",
    "for i in range(len(pred_true)):\n",
    "    \n",
    "    if pred_true.loc[i, 1] >= 0.8:\n",
    "        \n",
    "        pred_80.append(1.0)\n",
    "        \n",
    "    else:\n",
    "        \n",
    "        pred_80.append(0.0)"
   ]
  },
  {
   "cell_type": "code",
   "execution_count": 201,
   "id": "f57f0620",
   "metadata": {},
   "outputs": [],
   "source": [
    "pred_true['pred_80'] = pred_80"
   ]
  },
  {
   "cell_type": "code",
   "execution_count": 202,
   "id": "c35763f4",
   "metadata": {},
   "outputs": [
    {
     "data": {
      "text/html": [
       "<div>\n",
       "<style scoped>\n",
       "    .dataframe tbody tr th:only-of-type {\n",
       "        vertical-align: middle;\n",
       "    }\n",
       "\n",
       "    .dataframe tbody tr th {\n",
       "        vertical-align: top;\n",
       "    }\n",
       "\n",
       "    .dataframe thead th {\n",
       "        text-align: right;\n",
       "    }\n",
       "</style>\n",
       "<table border=\"1\" class=\"dataframe\">\n",
       "  <thead>\n",
       "    <tr style=\"text-align: right;\">\n",
       "      <th></th>\n",
       "      <th>0</th>\n",
       "      <th>1</th>\n",
       "      <th>pred</th>\n",
       "      <th>true</th>\n",
       "      <th>pred_80</th>\n",
       "    </tr>\n",
       "  </thead>\n",
       "  <tbody>\n",
       "    <tr>\n",
       "      <th>0</th>\n",
       "      <td>0.86</td>\n",
       "      <td>0.14</td>\n",
       "      <td>0.0</td>\n",
       "      <td>0.0</td>\n",
       "      <td>0.0</td>\n",
       "    </tr>\n",
       "    <tr>\n",
       "      <th>1</th>\n",
       "      <td>0.96</td>\n",
       "      <td>0.04</td>\n",
       "      <td>0.0</td>\n",
       "      <td>0.0</td>\n",
       "      <td>0.0</td>\n",
       "    </tr>\n",
       "    <tr>\n",
       "      <th>2</th>\n",
       "      <td>0.97</td>\n",
       "      <td>0.03</td>\n",
       "      <td>0.0</td>\n",
       "      <td>0.0</td>\n",
       "      <td>0.0</td>\n",
       "    </tr>\n",
       "    <tr>\n",
       "      <th>3</th>\n",
       "      <td>0.03</td>\n",
       "      <td>0.97</td>\n",
       "      <td>1.0</td>\n",
       "      <td>1.0</td>\n",
       "      <td>1.0</td>\n",
       "    </tr>\n",
       "    <tr>\n",
       "      <th>4</th>\n",
       "      <td>0.90</td>\n",
       "      <td>0.10</td>\n",
       "      <td>0.0</td>\n",
       "      <td>0.0</td>\n",
       "      <td>0.0</td>\n",
       "    </tr>\n",
       "  </tbody>\n",
       "</table>\n",
       "</div>"
      ],
      "text/plain": [
       "      0     1  pred  true  pred_80\n",
       "0  0.86  0.14   0.0   0.0      0.0\n",
       "1  0.96  0.04   0.0   0.0      0.0\n",
       "2  0.97  0.03   0.0   0.0      0.0\n",
       "3  0.03  0.97   1.0   1.0      1.0\n",
       "4  0.90  0.10   0.0   0.0      0.0"
      ]
     },
     "execution_count": 202,
     "metadata": {},
     "output_type": "execute_result"
    }
   ],
   "source": [
    "pred_true.head()"
   ]
  },
  {
   "cell_type": "code",
   "execution_count": 203,
   "id": "17c93321",
   "metadata": {},
   "outputs": [
    {
     "data": {
      "text/plain": [
       "475"
      ]
     },
     "execution_count": 203,
     "metadata": {},
     "output_type": "execute_result"
    }
   ],
   "source": [
    "# pred_80 true positive\n",
    "\n",
    "len(pred_true[(pred_true.pred_80 == 1) & (pred_true.pred_80 == pred_true.true)])"
   ]
  },
  {
   "cell_type": "code",
   "execution_count": 204,
   "id": "78513fd2",
   "metadata": {},
   "outputs": [
    {
     "data": {
      "text/plain": [
       "6"
      ]
     },
     "execution_count": 204,
     "metadata": {},
     "output_type": "execute_result"
    }
   ],
   "source": [
    "# pred_80 false positive\n",
    "\n",
    "len(pred_true[(pred_true.pred_80 == 1) & (pred_true.pred_80 != pred_true.true)])"
   ]
  },
  {
   "cell_type": "code",
   "execution_count": 205,
   "id": "205d998d",
   "metadata": {},
   "outputs": [
    {
     "data": {
      "text/plain": [
       "591"
      ]
     },
     "execution_count": 205,
     "metadata": {},
     "output_type": "execute_result"
    }
   ],
   "source": [
    "# pred_80 true negative\n",
    "\n",
    "len(pred_true[(pred_true.pred_80 == 0) & (pred_true.pred_80 == pred_true.true)])"
   ]
  },
  {
   "cell_type": "code",
   "execution_count": 206,
   "id": "98945115",
   "metadata": {},
   "outputs": [
    {
     "data": {
      "text/plain": [
       "167"
      ]
     },
     "execution_count": 206,
     "metadata": {},
     "output_type": "execute_result"
    }
   ],
   "source": [
    "# pred_80 false negative\n",
    "\n",
    "len(pred_true[(pred_true.pred_80 == 0) & (pred_true.pred_80 != pred_true.true)])"
   ]
  },
  {
   "cell_type": "code",
   "execution_count": null,
   "id": "2eb88a18",
   "metadata": {},
   "outputs": [],
   "source": [
    "# accuracy = (tp + tn) / (tp + fp + tn + fn)\n",
    "# precision = tp / (tp + fp)\n",
    "# recall = tp / (tp + fn)"
   ]
  },
  {
   "cell_type": "code",
   "execution_count": 217,
   "id": "a0b1677a",
   "metadata": {},
   "outputs": [
    {
     "data": {
      "text/plain": [
       "0.8603712671509282"
      ]
     },
     "execution_count": 217,
     "metadata": {},
     "output_type": "execute_result"
    }
   ],
   "source": [
    "# pred_80 accuracy\n",
    "\n",
    "(475 + 591) / (475 + 6 + 591 + 167)"
   ]
  },
  {
   "cell_type": "code",
   "execution_count": 218,
   "id": "9ffb9f9a",
   "metadata": {},
   "outputs": [
    {
     "data": {
      "text/plain": [
       "0.9875259875259875"
      ]
     },
     "execution_count": 218,
     "metadata": {},
     "output_type": "execute_result"
    }
   ],
   "source": [
    "# pred_80 precision\n",
    "\n",
    "475 / (475 + 6)"
   ]
  },
  {
   "cell_type": "code",
   "execution_count": 219,
   "id": "917d9467",
   "metadata": {},
   "outputs": [
    {
     "data": {
      "text/plain": [
       "0.7398753894080997"
      ]
     },
     "execution_count": 219,
     "metadata": {},
     "output_type": "execute_result"
    }
   ],
   "source": [
    "# pred_80 recall\n",
    "\n",
    "475 / (475 + 167)"
   ]
  },
  {
   "cell_type": "markdown",
   "id": "4306c48c",
   "metadata": {},
   "source": [
    "By changing the threshold of predict_proba to 0.80,\n",
    "an approx 0.02 increase in precision (0.97 -> 0.987) results in an approx 0.17 decrease in recall (0.91 -> 0.739)."
   ]
  },
  {
   "cell_type": "code",
   "execution_count": null,
   "id": "43f68cfd",
   "metadata": {},
   "outputs": [],
   "source": []
  },
  {
   "cell_type": "code",
   "execution_count": null,
   "id": "53f9ec48",
   "metadata": {},
   "outputs": [],
   "source": [
    "# Investigating"
   ]
  },
  {
   "cell_type": "code",
   "execution_count": null,
   "id": "c6f9b176",
   "metadata": {},
   "outputs": [],
   "source": []
  },
  {
   "cell_type": "code",
   "execution_count": 299,
   "id": "bf9e5f7e",
   "metadata": {},
   "outputs": [],
   "source": [
    "# Extracting the index values of those observation that were misclassified by the model \n",
    "\n",
    "prec_inv = pred_true[(pred_true.pred == 1) & (pred_true.true == 0)].index\n",
    "recal_inv = pred_true[(pred_true.pred == 0) & (pred_true.true == 1)].index"
   ]
  },
  {
   "cell_type": "code",
   "execution_count": 306,
   "id": "9c4d9f78",
   "metadata": {},
   "outputs": [],
   "source": [
    "# Extracting the relevant rows & columns from the dataset to investigate\n",
    "\n",
    "prec_df = X_test.loc[prec_inv, select_feat].replace(0, np.nan).copy()\n",
    "recal_df = X_test.loc[recal_inv, select_feat].replace(0, np.nan).copy()"
   ]
  },
  {
   "cell_type": "code",
   "execution_count": null,
   "id": "8a684b20",
   "metadata": {},
   "outputs": [],
   "source": []
  },
  {
   "cell_type": "code",
   "execution_count": 309,
   "id": "30c8c20e",
   "metadata": {},
   "outputs": [
    {
     "data": {
      "text/plain": [
       "(21, 398)"
      ]
     },
     "execution_count": 309,
     "metadata": {},
     "output_type": "execute_result"
    }
   ],
   "source": [
    "# Precision - 21 users were misclassified as Target class 1 when they were actually Target class 0\n",
    "\n",
    "prec_df.shape"
   ]
  },
  {
   "cell_type": "code",
   "execution_count": 313,
   "id": "97c28f28",
   "metadata": {},
   "outputs": [
    {
     "data": {
      "text/plain": [
       "AskReddit                6\n",
       "aww                     14\n",
       "pics                    16\n",
       "funny                   17\n",
       "interestingasfuck       18\n",
       "                        ..\n",
       "Nio                     21\n",
       "algotrading             21\n",
       "AreTheStraightsOK       21\n",
       "supersecretyachtclub    21\n",
       "ClashRoyale             21\n",
       "Length: 398, dtype: int64"
      ]
     },
     "execution_count": 313,
     "metadata": {},
     "output_type": "execute_result"
    }
   ],
   "source": [
    "prec_df.isna().sum()"
   ]
  },
  {
   "cell_type": "code",
   "execution_count": 319,
   "id": "4e8fba4b",
   "metadata": {},
   "outputs": [
    {
     "data": {
      "text/plain": [
       "AskReddit                 6\n",
       "aww                      14\n",
       "pics                     16\n",
       "funny                    17\n",
       "interestingasfuck        18\n",
       "                         ..\n",
       "Forex                    20\n",
       "CreditCards              20\n",
       "newzealand               20\n",
       "90dayfianceuncensored    20\n",
       "Repsneakers              20\n",
       "Length: 131, dtype: int64"
      ]
     },
     "execution_count": 319,
     "metadata": {},
     "output_type": "execute_result"
    }
   ],
   "source": [
    "prec_df.isna().sum()[prec_df.isna().sum() != prec_df.shape[0]]"
   ]
  },
  {
   "cell_type": "code",
   "execution_count": 322,
   "id": "e4f47ef0",
   "metadata": {},
   "outputs": [],
   "source": [
    "# Extracting the non-empty columns for users misclassified as Target class 1\n",
    "\n",
    "prec_subs = prec_df.isna().sum()[prec_df.isna().sum() != prec_df.shape[0]].index"
   ]
  },
  {
   "cell_type": "code",
   "execution_count": null,
   "id": "bc6175dd",
   "metadata": {},
   "outputs": [],
   "source": []
  },
  {
   "cell_type": "code",
   "execution_count": 315,
   "id": "f094dd4d",
   "metadata": {},
   "outputs": [
    {
     "data": {
      "text/plain": [
       "(57, 398)"
      ]
     },
     "execution_count": 315,
     "metadata": {},
     "output_type": "execute_result"
    }
   ],
   "source": [
    "# Recall - 57 users were misclassified as Target class 0 when they were actually Target class 1\n",
    "\n",
    "recal_df.shape"
   ]
  },
  {
   "cell_type": "code",
   "execution_count": 316,
   "id": "458fa99d",
   "metadata": {},
   "outputs": [
    {
     "data": {
      "text/plain": [
       "AskReddit               24\n",
       "aww                     34\n",
       "pics                    28\n",
       "funny                   28\n",
       "interestingasfuck       46\n",
       "                        ..\n",
       "Nio                     57\n",
       "algotrading             55\n",
       "AreTheStraightsOK       57\n",
       "supersecretyachtclub    57\n",
       "ClashRoyale             57\n",
       "Length: 398, dtype: int64"
      ]
     },
     "execution_count": 316,
     "metadata": {},
     "output_type": "execute_result"
    }
   ],
   "source": [
    "recal_df.isna().sum()"
   ]
  },
  {
   "cell_type": "code",
   "execution_count": 320,
   "id": "da002f7f",
   "metadata": {},
   "outputs": [
    {
     "data": {
      "text/plain": [
       "AskReddit            24\n",
       "aww                  34\n",
       "pics                 28\n",
       "funny                28\n",
       "interestingasfuck    46\n",
       "                     ..\n",
       "shib                 56\n",
       "Audi                 56\n",
       "Boxing               56\n",
       "Undertale            56\n",
       "algotrading          55\n",
       "Length: 212, dtype: int64"
      ]
     },
     "execution_count": 320,
     "metadata": {},
     "output_type": "execute_result"
    }
   ],
   "source": [
    "recal_df.isna().sum()[recal_df.isna().sum() != recal_df.shape[0]]"
   ]
  },
  {
   "cell_type": "code",
   "execution_count": 324,
   "id": "cae81c4a",
   "metadata": {},
   "outputs": [],
   "source": [
    "# Extracting the non-empty columns for users misclassified as Target class 0\n",
    "\n",
    "recal_subs = recal_df.isna().sum()[recal_df.isna().sum() != recal_df.shape[0]].index"
   ]
  },
  {
   "cell_type": "code",
   "execution_count": null,
   "id": "ccf4ab08",
   "metadata": {},
   "outputs": [],
   "source": []
  },
  {
   "cell_type": "code",
   "execution_count": 325,
   "id": "22d9708b",
   "metadata": {},
   "outputs": [
    {
     "data": {
      "text/plain": [
       "Index(['AskReddit', 'aww', 'pics', 'funny', 'interestingasfuck', 'news',\n",
       "       'antiwork', 'gaming', 'science', 'worldnews',\n",
       "       ...\n",
       "       'AMA', 'binance', 'biology', 'Zoomies', 'softwaregore', 'NoFap', 'tax',\n",
       "       'CreditCards', '90dayfianceuncensored', 'Repsneakers'],\n",
       "      dtype='object', length=102)"
      ]
     },
     "execution_count": 325,
     "metadata": {},
     "output_type": "execute_result"
    }
   ],
   "source": [
    "# The features that were used in both types of misclassification\n",
    "\n",
    "prec_subs.intersection(recal_subs)"
   ]
  },
  {
   "cell_type": "code",
   "execution_count": null,
   "id": "a3fae107",
   "metadata": {},
   "outputs": [],
   "source": []
  },
  {
   "cell_type": "code",
   "execution_count": 326,
   "id": "9a444c55",
   "metadata": {},
   "outputs": [
    {
     "data": {
      "text/plain": [
       "Index(['2007scape', 'AMCSTOCKS', 'AdviceAnimals', 'AnimalsBeingJerks',\n",
       "       'Aquariums', 'ArtefactPorn', 'AskNYC', 'AskOuija', 'AskThe_Donald',\n",
       "       'Audi',\n",
       "       ...\n",
       "       'therewasanattempt', 'tifu', 'ufc', 'unitedkingdom', 'vegan',\n",
       "       'wallstreetbetsOGs', 'whatisthisthing', 'whatsthisbug',\n",
       "       'whatsthisplant', 'worldpolitics'],\n",
       "      dtype='object', length=139)"
      ]
     },
     "execution_count": 326,
     "metadata": {},
     "output_type": "execute_result"
    }
   ],
   "source": [
    "# The features that were used in only one or the other types of misclassification, but not both \n",
    "\n",
    "prec_subs.symmetric_difference(recal_subs)"
   ]
  },
  {
   "cell_type": "code",
   "execution_count": null,
   "id": "28f2e77c",
   "metadata": {},
   "outputs": [],
   "source": []
  },
  {
   "cell_type": "code",
   "execution_count": 330,
   "id": "1ac3e274",
   "metadata": {},
   "outputs": [
    {
     "data": {
      "text/plain": [
       "Index(['AMCSTOCKS', 'AskThe_Donald', 'CoinBase', 'CryptoMarkets', 'DDintoGME',\n",
       "       'DeepFuckingValue', 'Fire', 'Forex', 'GME', 'GMEJungle', 'SafeMoon',\n",
       "       'SatoshiStreetBets', 'StockMarket', 'WallStreetBetsCrypto',\n",
       "       'Wallstreetbetsnew', 'amcstock', 'battlefield2042', 'booksuggestions',\n",
       "       'dadjokes', 'dividends', 'ethereum', 'ethtrader', 'gme_meltdown',\n",
       "       'houseplants', 'loopringorg', 'lotrmemes', 'microgrowery', 'newzealand',\n",
       "       'smallbusiness'],\n",
       "      dtype='object')"
      ]
     },
     "execution_count": 330,
     "metadata": {},
     "output_type": "execute_result"
    }
   ],
   "source": [
    "# The features that were used in the type of misclassification that hindered model precision but not recall\n",
    "\n",
    "prec_subs.difference(recal_subs)"
   ]
  },
  {
   "cell_type": "code",
   "execution_count": 328,
   "id": "ea514973",
   "metadata": {},
   "outputs": [
    {
     "data": {
      "text/plain": [
       "Index(['2007scape', 'AdviceAnimals', 'AnimalsBeingJerks', 'Aquariums',\n",
       "       'ArtefactPorn', 'AskNYC', 'AskOuija', 'Audi', 'Austin', 'AutoDetailing',\n",
       "       ...\n",
       "       'therewasanattempt', 'tifu', 'ufc', 'unitedkingdom', 'vegan',\n",
       "       'wallstreetbetsOGs', 'whatisthisthing', 'whatsthisbug',\n",
       "       'whatsthisplant', 'worldpolitics'],\n",
       "      dtype='object', length=110)"
      ]
     },
     "execution_count": 328,
     "metadata": {},
     "output_type": "execute_result"
    }
   ],
   "source": [
    "# The features that were used in the type of misclassification that hindered model recall but not precision\n",
    "\n",
    "recal_subs.difference(prec_subs)"
   ]
  },
  {
   "cell_type": "code",
   "execution_count": null,
   "id": "e8ca6b00",
   "metadata": {},
   "outputs": [],
   "source": []
  },
  {
   "cell_type": "markdown",
   "id": "170d68ab",
   "metadata": {},
   "source": [
    "# Testing model performance with outliers"
   ]
  },
  {
   "cell_type": "code",
   "execution_count": null,
   "id": "18832471",
   "metadata": {},
   "outputs": [],
   "source": []
  },
  {
   "cell_type": "code",
   "execution_count": 227,
   "id": "d42e71b1",
   "metadata": {},
   "outputs": [],
   "source": [
    "# Reading dataset with outliers into a pandas dataframe\n",
    "\n",
    "outlier_df = pd.read_csv('reddit_class_data.csv')"
   ]
  },
  {
   "cell_type": "code",
   "execution_count": 228,
   "id": "9aec58c8",
   "metadata": {},
   "outputs": [],
   "source": [
    "outlier_df.set_index('Unnamed: 0', inplace=True)\n",
    "outlier_df.index.name = None"
   ]
  },
  {
   "cell_type": "code",
   "execution_count": 229,
   "id": "bea44a07",
   "metadata": {},
   "outputs": [
    {
     "data": {
      "text/plain": [
       "(6480, 25609)"
      ]
     },
     "execution_count": 229,
     "metadata": {},
     "output_type": "execute_result"
    }
   ],
   "source": [
    "# Shape of dataset with outliers\n",
    "\n",
    "outlier_df.shape"
   ]
  },
  {
   "cell_type": "code",
   "execution_count": 230,
   "id": "4673bd31",
   "metadata": {},
   "outputs": [
    {
     "data": {
      "text/plain": [
       "Series([], dtype: int64)"
      ]
     },
     "execution_count": 230,
     "metadata": {},
     "output_type": "execute_result"
    }
   ],
   "source": [
    "# Checking for empty columns\n",
    "\n",
    "outlier_df.isna().sum()[outlier_df.isna().sum() == outlier_df.shape[0]]"
   ]
  },
  {
   "cell_type": "code",
   "execution_count": 231,
   "id": "80d664bf",
   "metadata": {},
   "outputs": [
    {
     "data": {
      "text/plain": [
       "1.0    0.519753\n",
       "0.0    0.480247\n",
       "Name: Target, dtype: float64"
      ]
     },
     "execution_count": 231,
     "metadata": {},
     "output_type": "execute_result"
    }
   ],
   "source": [
    "# Identifying baseline accuracy\n",
    "\n",
    "outlier_df.Target.value_counts(normalize=True)"
   ]
  },
  {
   "cell_type": "code",
   "execution_count": 232,
   "id": "6db88a0d",
   "metadata": {},
   "outputs": [],
   "source": [
    "# Replace NaN values with 0\n",
    "\n",
    "outlier_df.replace(np.nan, 0, inplace=True)"
   ]
  },
  {
   "cell_type": "code",
   "execution_count": 248,
   "id": "a0de15be",
   "metadata": {},
   "outputs": [
    {
     "data": {
      "text/html": [
       "<div>\n",
       "<style scoped>\n",
       "    .dataframe tbody tr th:only-of-type {\n",
       "        vertical-align: middle;\n",
       "    }\n",
       "\n",
       "    .dataframe tbody tr th {\n",
       "        vertical-align: top;\n",
       "    }\n",
       "\n",
       "    .dataframe thead th {\n",
       "        text-align: right;\n",
       "    }\n",
       "</style>\n",
       "<table border=\"1\" class=\"dataframe\">\n",
       "  <thead>\n",
       "    <tr style=\"text-align: right;\">\n",
       "      <th></th>\n",
       "      <th>business</th>\n",
       "      <th>LooneyTunesLogic</th>\n",
       "      <th>UTAustin</th>\n",
       "      <th>grandorder</th>\n",
       "      <th>turntables</th>\n",
       "      <th>Maine</th>\n",
       "      <th>Floki</th>\n",
       "      <th>Gaming_Headsets</th>\n",
       "      <th>belowdeck</th>\n",
       "      <th>bassfishing</th>\n",
       "      <th>...</th>\n",
       "      <th>AutismTranslated</th>\n",
       "      <th>WomenWithWatches</th>\n",
       "      <th>QMEE</th>\n",
       "      <th>ColoradoSwingers</th>\n",
       "      <th>mitralvalveprolapse</th>\n",
       "      <th>teams</th>\n",
       "      <th>GeorgiaCampAndHike</th>\n",
       "      <th>KazuhaMains</th>\n",
       "      <th>TRGMakesMusic</th>\n",
       "      <th>lucky</th>\n",
       "    </tr>\n",
       "  </thead>\n",
       "  <tbody>\n",
       "    <tr>\n",
       "      <th>OliveInvestor</th>\n",
       "      <td>0.0</td>\n",
       "      <td>0.0</td>\n",
       "      <td>0.0</td>\n",
       "      <td>0.0</td>\n",
       "      <td>0.0</td>\n",
       "      <td>0.0</td>\n",
       "      <td>0.0</td>\n",
       "      <td>0.0</td>\n",
       "      <td>0.0</td>\n",
       "      <td>0.0</td>\n",
       "      <td>...</td>\n",
       "      <td>0.0</td>\n",
       "      <td>0.0</td>\n",
       "      <td>0.0</td>\n",
       "      <td>0.0</td>\n",
       "      <td>0.0</td>\n",
       "      <td>0.0</td>\n",
       "      <td>0.0</td>\n",
       "      <td>0.0</td>\n",
       "      <td>0.0</td>\n",
       "      <td>0.0</td>\n",
       "    </tr>\n",
       "    <tr>\n",
       "      <th>regarding_your_cat</th>\n",
       "      <td>0.0</td>\n",
       "      <td>0.0</td>\n",
       "      <td>0.0</td>\n",
       "      <td>0.0</td>\n",
       "      <td>0.0</td>\n",
       "      <td>0.0</td>\n",
       "      <td>0.0</td>\n",
       "      <td>0.0</td>\n",
       "      <td>0.0</td>\n",
       "      <td>0.0</td>\n",
       "      <td>...</td>\n",
       "      <td>0.0</td>\n",
       "      <td>0.0</td>\n",
       "      <td>0.0</td>\n",
       "      <td>0.0</td>\n",
       "      <td>0.0</td>\n",
       "      <td>0.0</td>\n",
       "      <td>0.0</td>\n",
       "      <td>0.0</td>\n",
       "      <td>0.0</td>\n",
       "      <td>0.0</td>\n",
       "    </tr>\n",
       "    <tr>\n",
       "      <th>mr_kazemiro</th>\n",
       "      <td>0.0</td>\n",
       "      <td>0.0</td>\n",
       "      <td>0.0</td>\n",
       "      <td>0.0</td>\n",
       "      <td>0.0</td>\n",
       "      <td>0.0</td>\n",
       "      <td>0.0</td>\n",
       "      <td>0.0</td>\n",
       "      <td>0.0</td>\n",
       "      <td>0.0</td>\n",
       "      <td>...</td>\n",
       "      <td>0.0</td>\n",
       "      <td>0.0</td>\n",
       "      <td>0.0</td>\n",
       "      <td>0.0</td>\n",
       "      <td>0.0</td>\n",
       "      <td>0.0</td>\n",
       "      <td>0.0</td>\n",
       "      <td>0.0</td>\n",
       "      <td>0.0</td>\n",
       "      <td>0.0</td>\n",
       "    </tr>\n",
       "    <tr>\n",
       "      <th>damn_montana</th>\n",
       "      <td>0.0</td>\n",
       "      <td>0.0</td>\n",
       "      <td>0.0</td>\n",
       "      <td>0.0</td>\n",
       "      <td>0.0</td>\n",
       "      <td>0.0</td>\n",
       "      <td>0.0</td>\n",
       "      <td>0.0</td>\n",
       "      <td>0.0</td>\n",
       "      <td>0.0</td>\n",
       "      <td>...</td>\n",
       "      <td>0.0</td>\n",
       "      <td>0.0</td>\n",
       "      <td>0.0</td>\n",
       "      <td>0.0</td>\n",
       "      <td>0.0</td>\n",
       "      <td>0.0</td>\n",
       "      <td>0.0</td>\n",
       "      <td>0.0</td>\n",
       "      <td>0.0</td>\n",
       "      <td>0.0</td>\n",
       "    </tr>\n",
       "    <tr>\n",
       "      <th>Philinizavr</th>\n",
       "      <td>0.0</td>\n",
       "      <td>0.0</td>\n",
       "      <td>0.0</td>\n",
       "      <td>0.0</td>\n",
       "      <td>0.0</td>\n",
       "      <td>0.0</td>\n",
       "      <td>0.0</td>\n",
       "      <td>0.0</td>\n",
       "      <td>0.0</td>\n",
       "      <td>0.0</td>\n",
       "      <td>...</td>\n",
       "      <td>0.0</td>\n",
       "      <td>0.0</td>\n",
       "      <td>0.0</td>\n",
       "      <td>0.0</td>\n",
       "      <td>0.0</td>\n",
       "      <td>0.0</td>\n",
       "      <td>0.0</td>\n",
       "      <td>0.0</td>\n",
       "      <td>0.0</td>\n",
       "      <td>0.0</td>\n",
       "    </tr>\n",
       "  </tbody>\n",
       "</table>\n",
       "<p>5 rows × 25609 columns</p>\n",
       "</div>"
      ],
      "text/plain": [
       "                    business  LooneyTunesLogic  UTAustin  grandorder  \\\n",
       "OliveInvestor            0.0               0.0       0.0         0.0   \n",
       "regarding_your_cat       0.0               0.0       0.0         0.0   \n",
       "mr_kazemiro              0.0               0.0       0.0         0.0   \n",
       "damn_montana             0.0               0.0       0.0         0.0   \n",
       "Philinizavr              0.0               0.0       0.0         0.0   \n",
       "\n",
       "                    turntables  Maine  Floki  Gaming_Headsets  belowdeck  \\\n",
       "OliveInvestor              0.0    0.0    0.0              0.0        0.0   \n",
       "regarding_your_cat         0.0    0.0    0.0              0.0        0.0   \n",
       "mr_kazemiro                0.0    0.0    0.0              0.0        0.0   \n",
       "damn_montana               0.0    0.0    0.0              0.0        0.0   \n",
       "Philinizavr                0.0    0.0    0.0              0.0        0.0   \n",
       "\n",
       "                    bassfishing  ...  AutismTranslated  WomenWithWatches  \\\n",
       "OliveInvestor               0.0  ...               0.0               0.0   \n",
       "regarding_your_cat          0.0  ...               0.0               0.0   \n",
       "mr_kazemiro                 0.0  ...               0.0               0.0   \n",
       "damn_montana                0.0  ...               0.0               0.0   \n",
       "Philinizavr                 0.0  ...               0.0               0.0   \n",
       "\n",
       "                    QMEE  ColoradoSwingers  mitralvalveprolapse  teams  \\\n",
       "OliveInvestor        0.0               0.0                  0.0    0.0   \n",
       "regarding_your_cat   0.0               0.0                  0.0    0.0   \n",
       "mr_kazemiro          0.0               0.0                  0.0    0.0   \n",
       "damn_montana         0.0               0.0                  0.0    0.0   \n",
       "Philinizavr          0.0               0.0                  0.0    0.0   \n",
       "\n",
       "                    GeorgiaCampAndHike  KazuhaMains  TRGMakesMusic  lucky  \n",
       "OliveInvestor                      0.0          0.0            0.0    0.0  \n",
       "regarding_your_cat                 0.0          0.0            0.0    0.0  \n",
       "mr_kazemiro                        0.0          0.0            0.0    0.0  \n",
       "damn_montana                       0.0          0.0            0.0    0.0  \n",
       "Philinizavr                        0.0          0.0            0.0    0.0  \n",
       "\n",
       "[5 rows x 25609 columns]"
      ]
     },
     "execution_count": 248,
     "metadata": {},
     "output_type": "execute_result"
    }
   ],
   "source": [
    "outlier_df.head()"
   ]
  },
  {
   "cell_type": "code",
   "execution_count": null,
   "id": "b108c52b",
   "metadata": {},
   "outputs": [],
   "source": []
  },
  {
   "cell_type": "code",
   "execution_count": 251,
   "id": "c52b8e2d",
   "metadata": {},
   "outputs": [
    {
     "data": {
      "text/plain": [
       "6192"
      ]
     },
     "execution_count": 251,
     "metadata": {},
     "output_type": "execute_result"
    }
   ],
   "source": [
    "# Number of observations in dataset without outliers\n",
    "\n",
    "len(df.index)"
   ]
  },
  {
   "cell_type": "code",
   "execution_count": 252,
   "id": "9b5addd2",
   "metadata": {},
   "outputs": [
    {
     "data": {
      "text/plain": [
       "6480"
      ]
     },
     "execution_count": 252,
     "metadata": {},
     "output_type": "execute_result"
    }
   ],
   "source": [
    "# Number of observations in dataset with outliers\n",
    "\n",
    "len(outlier_df.index)"
   ]
  },
  {
   "cell_type": "code",
   "execution_count": 260,
   "id": "3423e4d9",
   "metadata": {},
   "outputs": [
    {
     "data": {
      "text/plain": [
       "288"
      ]
     },
     "execution_count": 260,
     "metadata": {},
     "output_type": "execute_result"
    }
   ],
   "source": [
    "# Number of outliers\n",
    "\n",
    "len(list(set(outlier_df.index) - set(df.index)))"
   ]
  },
  {
   "cell_type": "code",
   "execution_count": 261,
   "id": "1c418eeb",
   "metadata": {},
   "outputs": [],
   "source": [
    "# Extracting the usernames of the outliers into a list\n",
    "\n",
    "out_users = list(set(outlier_df.index) - set(df.index))"
   ]
  },
  {
   "cell_type": "code",
   "execution_count": null,
   "id": "32443994",
   "metadata": {},
   "outputs": [],
   "source": []
  },
  {
   "cell_type": "code",
   "execution_count": 271,
   "id": "b0f1aadb",
   "metadata": {},
   "outputs": [],
   "source": [
    "# Seperating predictors and target in dataset with only outliers\n",
    "\n",
    "X_2_outliers = X_2.loc[out_users, :].copy()\n",
    "y_2_outliers = y_2[out_users].copy()"
   ]
  },
  {
   "cell_type": "code",
   "execution_count": null,
   "id": "d2c9da18",
   "metadata": {},
   "outputs": [],
   "source": []
  },
  {
   "cell_type": "code",
   "execution_count": 273,
   "id": "6559bb5c",
   "metadata": {},
   "outputs": [],
   "source": [
    "# Scaling data with StandardScaler (transforming without fitting) \n",
    "\n",
    "# Using StandardScaler(with_mean=False) to keep 0 values as 0\n",
    "\n",
    "X_2_outliers = pd.DataFrame(scaler.transform(X_2_outliers[X_train.columns]), columns=X_2_outliers[X_train.columns].columns)\n",
    "\n",
    "X_std = pd.DataFrame(scaler.transform(X[X_train.columns]), columns=X[X_train.columns].columns)"
   ]
  },
  {
   "cell_type": "code",
   "execution_count": null,
   "id": "93488604",
   "metadata": {},
   "outputs": [],
   "source": []
  },
  {
   "cell_type": "code",
   "execution_count": 351,
   "id": "9a3c23fb",
   "metadata": {},
   "outputs": [
    {
     "name": "stdout",
     "output_type": "stream",
     "text": [
      "X_train Score: 0.9997981021603068\n",
      "X_test Score: 0.937046004842615\n"
     ]
    }
   ],
   "source": [
    "# Original test score\n",
    "\n",
    "print('X_test Score:', rfc.score(X_test[select_feat], y_test))"
   ]
  },
  {
   "cell_type": "code",
   "execution_count": 353,
   "id": "17c56514",
   "metadata": {},
   "outputs": [
    {
     "name": "stdout",
     "output_type": "stream",
     "text": [
      "X_2_outlier Score: 0.9513888888888888\n"
     ]
    }
   ],
   "source": [
    "# Outlier test score\n",
    "\n",
    "print('X_2_outlier Score:', rfc.score(X_2_outliers[select_feat], y_2_outliers))"
   ]
  },
  {
   "cell_type": "code",
   "execution_count": null,
   "id": "8e77ce2e",
   "metadata": {},
   "outputs": [],
   "source": []
  },
  {
   "cell_type": "code",
   "execution_count": null,
   "id": "120431e0",
   "metadata": {},
   "outputs": [],
   "source": [
    "### Analysis / Evaluation"
   ]
  },
  {
   "cell_type": "code",
   "execution_count": 275,
   "id": "67f73d47",
   "metadata": {},
   "outputs": [
    {
     "name": "stderr",
     "output_type": "stream",
     "text": [
      "/Users/ayman_aboufaied/opt/anaconda3/lib/python3.8/site-packages/sklearn/utils/deprecation.py:87: FutureWarning: Function plot_confusion_matrix is deprecated; Function `plot_confusion_matrix` is deprecated in 1.0 and will be removed in 1.2. Use one of the class methods: ConfusionMatrixDisplay.from_predictions or ConfusionMatrixDisplay.from_estimator.\n",
      "  warnings.warn(msg, category=FutureWarning)\n"
     ]
    },
    {
     "data": {
      "text/plain": [
       "<sklearn.metrics._plot.confusion_matrix.ConfusionMatrixDisplay at 0x7fb9b0ffed60>"
      ]
     },
     "execution_count": 275,
     "metadata": {},
     "output_type": "execute_result"
    },
    {
     "data": {
      "text/plain": [
       "<Figure size 720x720 with 0 Axes>"
      ]
     },
     "metadata": {},
     "output_type": "display_data"
    },
    {
     "data": {
      "image/png": "[encoded data removed]",
      "text/plain": [
       "<Figure size 432x288 with 2 Axes>"
      ]
     },
     "metadata": {
      "needs_background": "light"
     },
     "output_type": "display_data"
    }
   ],
   "source": [
    "# Examing the normalised confusion matrix for the outlier data \n",
    "\n",
    "plt.figure(figsize=(10,10))\n",
    "plot_confusion_matrix(rfc, X_2_outliers[select_feat], y_2_outliers, normalize='true')"
   ]
  },
  {
   "cell_type": "code",
   "execution_count": 276,
   "id": "0a2e6873",
   "metadata": {},
   "outputs": [
    {
     "name": "stdout",
     "output_type": "stream",
     "text": [
      "              precision    recall  f1-score   support\n",
      "\n",
      "         0.0       0.93      0.96      0.95       127\n",
      "         1.0       0.97      0.94      0.96       161\n",
      "\n",
      "    accuracy                           0.95       288\n",
      "   macro avg       0.95      0.95      0.95       288\n",
      "weighted avg       0.95      0.95      0.95       288\n",
      "\n"
     ]
    }
   ],
   "source": [
    "# Overview of key metrics to evaluate the model's performance on the outlier data\n",
    "\n",
    "print(classification_report(y_2_outliers, rfc.predict(X_2_outliers[select_feat])))"
   ]
  },
  {
   "cell_type": "code",
   "execution_count": null,
   "id": "ee935de5",
   "metadata": {},
   "outputs": [],
   "source": []
  },
  {
   "cell_type": "markdown",
   "id": "f0e76dab",
   "metadata": {},
   "source": [
    "# Next Steps\n",
    "\n",
    "- Get more data.\n",
    "- Apply Grid Search to optimize model hyperparameters.\n",
    "- Factor frequency of interactions into feature engineering.\n",
    "- Conduct NLP to evaluate sentiment of interaction and factor into feature engineering.\n",
    "- Filter out bots.\n",
    "\n",
    "\n",
    "- Try to predict more detailed target classes eg post, comment, both, neither.\n",
    "- Experiment with more target subreddits.\n"
   ]
  },
  {
   "cell_type": "code",
   "execution_count": null,
   "id": "2e2a5065",
   "metadata": {},
   "outputs": [],
   "source": []
  }
 ],
 "metadata": {
  "kernelspec": {
   "display_name": "Python 3 (ipykernel)",
   "language": "python",
   "name": "python3"
  },
  "language_info": {
   "codemirror_mode": {
    "name": "ipython",
    "version": 3
   },
   "file_extension": ".py",
   "mimetype": "text/x-python",
   "name": "python",
   "nbconvert_exporter": "python",
   "pygments_lexer": "ipython3",
   "version": "3.8.2"
  }
 },
 "nbformat": 4,
 "nbformat_minor": 5
}
